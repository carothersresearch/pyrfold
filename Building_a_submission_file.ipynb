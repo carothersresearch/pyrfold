{
 "metadata": {
  "name": "",
  "signature": "sha256:c0ce97f912d81e045434aa84cf399cb931f71af1248824fbb71197dc3aeba519"
 },
 "nbformat": 3,
 "nbformat_minor": 0,
 "worksheets": [
  {
   "cells": [
    {
     "cell_type": "heading",
     "level": 1,
     "metadata": {},
     "source": [
      "Introduction"
     ]
    },
    {
     "cell_type": "markdown",
     "metadata": {},
     "source": [
      "This notebook should serve as a basic template and a walkthrough for making a submission csv file for generating hyak simulation data. \n",
      "\n",
      "First thing is first. We need to define what we are working with. For this example I will be defining a left and right context and then combining multiple parts and insulating sequences into a simuation dictionary. "
     ]
    },
    {
     "cell_type": "code",
     "collapsed": false,
     "input": [
      "#Context sequences\n",
      "fiveflank = \"CTTACGATGTTCCAGATTACGCTCCCATGGTGAGCAAGGGCGAGGAGCTGTTCACCGGGGTGGTGCCCATCCTGGTCGAGCTGGACGGCGACGTAAACGGCCACAAGTTCAGCGTGTCCGGCGAGGGCGAGGTGAGTCTATGGGACCCTTGATGTTTTCTTTCCCCTTCTTTTCTATGGTTAAGTTCATGTCATAGGAAGGGGAGAAGTAACAGGGTACAGTTTAGAATGGGAAACAGACGAATGATTGCATCAGTGTGGAAGTCTCAGGATCGTTTTAGTTTCTTTTATTTGCTGTTCATAACAATTggatcc\"\n",
      "threeflank = \"ggatccGTTTTCTTTTGTTTAATTCTTGCTTTCTTTTTTTTTCTTCTCCGCAATTTTTACTATTATACTTAATGCCTTAACATTGTGTATAACAAAAGGAAATATCTCTGAGATACATTAAGTAACTTAAAAAAAAACTTTACACAGTCTGCCTAGTACATTACTATTTGGAATATATGTGTGCTTATTTGCATATTCATAATCTCCCTACTTTATTTTCTTTTATTTTTAATTGATACATAATCATTATACATATTTATGGGTTAAAGTGT\"\n",
      "#part sequences\n",
      "parts = {'ASBV-1': 'GGGACGGGCCAUCAUCUAUCCCUGAAGAGACGAAGGCUUCGGCCAAGUCGAAACGGAAACGUCGGAUAGUCGCCCGUCCC',\n",
      "         'sTRSV-2': 'GGGCCUGUCACCGGAUGUGCUUUCCGGUCUGAUGAGUCCCUGAAAUGGGACGAAACAGGCCC',\n",
      "         'Sman': 'GGGCGAAAGCCGGCGCGUCCUGGAUUCCACUGCUUCGGCAGGUACAUCCAGCUGAUGAGUCCCAAAUAGGACGAAACGCGCU',\n",
      "         'ASBV-3': 'GGGACGGGCCAUCAUCUAUCCCUGAAGAGACGAAGGCUUCGGCCUCGUCGAAACGGAAACGUGGGAUAGUCGCCCGUCCC'}\n",
      "#insulating sequences\n",
      "insulatingsequences = {'ASBV-1': ['CUGACCAACCCAUA', 'AAUAGUAACCAAAC', '044', '017'],\n",
      "'ASBV-3': ['UGGGAGAAAUAGUAC', 'UGUGGAACAAACG', '043', '017'],\n",
      "'Sman': ['CGAGAGAACACAUGA', 'AAAAAAAACAA', '030', '007'],\n",
      "'sTRSV-2': ['UGCUAGCGAUGCGC', 'CUGCGUAAACG', '033', '017']}"
     ],
     "language": "python",
     "metadata": {},
     "outputs": [],
     "prompt_number": 1
    },
    {
     "cell_type": "markdown",
     "metadata": {},
     "source": [
      "These devices are going to be folded multiple times at different windows and at different rates, as a cosequence they are going to need a unique name for every submission"
     ]
    },
    {
     "cell_type": "code",
     "collapsed": false,
     "input": [
      "#experimental rates\n",
      "polrates = [10, 20, 30]\n",
      "windows = [[-60, 40], [-70, 45], [-55, 30], [-63, 55]]\n",
      "foldtimeafter = 1\n",
      "#Now to fill out the objects\n",
      "import pyrfold\n",
      "\n",
      "devicetoobjdict = {}\n",
      "for polrate in polrates:\n",
      "    for windowcounter, window in enumerate(windows):\n",
      "        for part in parts:\n",
      "            tempname = part+'-'+str(polrate)+'-'+str(windowcounter)\n",
      "            #Calculating start/stop\n",
      "            sequence = fiveflank + insulatingsequences[part][0] + parts[part] + insulatingsequences[part][1] + threeflank\n",
      "            windowstart = (len(fiveflank + insulatingsequences[part][0]) + 1) + window[0]\n",
      "            windowstop = (len(fiveflank + insulatingsequences[part][0] + parts[part]) + 1) + window[1]\n",
      "            partstartstop = [len(fiveflank + insulatingsequences[part][0]) + 1, len(fiveflank + insulatingsequences[part][0] + parts[part]) + 1]\n",
      "            tempsub = pyrfold.FoldingSubData(tempname, sequence, windowstart=windowstart, windowstop=windowstop,\n",
      "            partstartstoplist=[partstartstop], partnamelist=[part], forcedhelixes=[], polrate=polrate,\n",
      "            foldtimeafter=foldtimeafter, experimenttype=2, pseudoknots=0, entanglements=0,\n",
      "            numberofsimulations=100)\n",
      "            devicetoobjdict[tempname] = tempsub\n",
      "        "
     ],
     "language": "python",
     "metadata": {},
     "outputs": [],
     "prompt_number": 2
    },
    {
     "cell_type": "code",
     "collapsed": false,
     "input": [
      "#Now we can easily write this to a csv file:\n",
      "filename = 'round-4-ins-bamhi'\n",
      "pyrfold.pyrfile.filled_in_form(filename, devicetoobjdict)"
     ],
     "language": "python",
     "metadata": {},
     "outputs": [],
     "prompt_number": 3
    },
    {
     "cell_type": "code",
     "collapsed": false,
     "input": [
      "x =devicetoobjdict['ASBV-1-10-0']"
     ],
     "language": "python",
     "metadata": {},
     "outputs": [],
     "prompt_number": 4
    },
    {
     "cell_type": "code",
     "collapsed": false,
     "input": [
      "x.scale_parts_to_window()"
     ],
     "language": "python",
     "metadata": {},
     "outputs": [],
     "prompt_number": 5
    },
    {
     "cell_type": "code",
     "collapsed": false,
     "input": [
      "x.adjustedpartstartstop"
     ],
     "language": "python",
     "metadata": {},
     "outputs": [
      {
       "metadata": {},
       "output_type": "pyout",
       "prompt_number": 6,
       "text": [
        "{'ASBV-1': [61, 140]}"
       ]
      }
     ],
     "prompt_number": 6
    },
    {
     "cell_type": "code",
     "collapsed": false,
     "input": [
      "x.adjustedsequence[61 -1: 140]"
     ],
     "language": "python",
     "metadata": {},
     "outputs": [
      {
       "metadata": {},
       "output_type": "pyout",
       "prompt_number": 7,
       "text": [
        "'GGGACGGGCCAUCAUCUAUCCCUGAAGAGACGAAGGCUUCGGCCAAGUCGAAACGGAAACGUCGGAUAGUCGCCCGUCCC'"
       ]
      }
     ],
     "prompt_number": 7
    },
    {
     "cell_type": "code",
     "collapsed": false,
     "input": [
      "GGGACGGGCCAUCAUCUAUCCCUGAAGAGACGAAGGCUUCGGCCAAGUCGAAACGGAAACGUCGGAUAGUCGCCCGUCCC"
     ],
     "language": "python",
     "metadata": {},
     "outputs": []
    },
    {
     "cell_type": "code",
     "collapsed": false,
     "input": [],
     "language": "python",
     "metadata": {},
     "outputs": []
    },
    {
     "cell_type": "code",
     "collapsed": false,
     "input": [],
     "language": "python",
     "metadata": {},
     "outputs": []
    },
    {
     "cell_type": "code",
     "collapsed": false,
     "input": [],
     "language": "python",
     "metadata": {},
     "outputs": []
    },
    {
     "cell_type": "code",
     "collapsed": false,
     "input": [
      "import pickle\n",
      "with open('test.p', 'wb') as picklefile:\n",
      "    pickle.dump(devicetoobjdict, picklefile)"
     ],
     "language": "python",
     "metadata": {},
     "outputs": [],
     "prompt_number": 5
    },
    {
     "cell_type": "code",
     "collapsed": false,
     "input": [
      "test = pickle.load(open('test.p', 'rb'))"
     ],
     "language": "python",
     "metadata": {},
     "outputs": [],
     "prompt_number": 7
    },
    {
     "cell_type": "code",
     "collapsed": false,
     "input": [
      "test"
     ],
     "language": "python",
     "metadata": {},
     "outputs": [
      {
       "metadata": {},
       "output_type": "pyout",
       "prompt_number": 8,
       "text": [
        "{'ASBV-1-10-0': <pyrfold.foldingsub.FoldingSubData at 0x7f143cd18950>,\n",
        " 'ASBV-1-10-1': <pyrfold.foldingsub.FoldingSubData at 0x7f143cd18990>,\n",
        " 'ASBV-1-10-2': <pyrfold.foldingsub.FoldingSubData at 0x7f143cd189d0>,\n",
        " 'ASBV-1-10-3': <pyrfold.foldingsub.FoldingSubData at 0x7f143cd18e10>,\n",
        " 'ASBV-1-20-0': <pyrfold.foldingsub.FoldingSubData at 0x7f143cd18bd0>,\n",
        " 'ASBV-1-20-1': <pyrfold.foldingsub.FoldingSubData at 0x7f143cd18b90>,\n",
        " 'ASBV-1-20-2': <pyrfold.foldingsub.FoldingSubData at 0x7f143cd18c50>,\n",
        " 'ASBV-1-20-3': <pyrfold.foldingsub.FoldingSubData at 0x7f143cd18c10>,\n",
        " 'ASBV-1-30-0': <pyrfold.foldingsub.FoldingSubData at 0x7f14440b1110>,\n",
        " 'ASBV-1-30-1': <pyrfold.foldingsub.FoldingSubData at 0x7f144409d550>,\n",
        " 'ASBV-1-30-2': <pyrfold.foldingsub.FoldingSubData at 0x7f14440b1310>,\n",
        " 'ASBV-1-30-3': <pyrfold.foldingsub.FoldingSubData at 0x7f14440b1390>,\n",
        " 'ASBV-3-10-0': <pyrfold.foldingsub.FoldingSubData at 0x7f143cd18a10>,\n",
        " 'ASBV-3-10-1': <pyrfold.foldingsub.FoldingSubData at 0x7f143cd18dd0>,\n",
        " 'ASBV-3-10-2': <pyrfold.foldingsub.FoldingSubData at 0x7f143cd18f90>,\n",
        " 'ASBV-3-10-3': <pyrfold.foldingsub.FoldingSubData at 0x7f143cd18a50>,\n",
        " 'ASBV-3-20-0': <pyrfold.foldingsub.FoldingSubData at 0x7f143cd18590>,\n",
        " 'ASBV-3-20-1': <pyrfold.foldingsub.FoldingSubData at 0x7f143cd18510>,\n",
        " 'ASBV-3-20-2': <pyrfold.foldingsub.FoldingSubData at 0x7f143cd18690>,\n",
        " 'ASBV-3-20-3': <pyrfold.foldingsub.FoldingSubData at 0x7f143cd18650>,\n",
        " 'ASBV-3-30-0': <pyrfold.foldingsub.FoldingSubData at 0x7f143cd18750>,\n",
        " 'ASBV-3-30-1': <pyrfold.foldingsub.FoldingSubData at 0x7f143cd18790>,\n",
        " 'ASBV-3-30-2': <pyrfold.foldingsub.FoldingSubData at 0x7f143cd187d0>,\n",
        " 'ASBV-3-30-3': <pyrfold.foldingsub.FoldingSubData at 0x7f143cd18810>,\n",
        " 'Sman-10-0': <pyrfold.foldingsub.FoldingSubData at 0x7f143cd18d50>,\n",
        " 'Sman-10-1': <pyrfold.foldingsub.FoldingSubData at 0x7f143cd18d10>,\n",
        " 'Sman-10-2': <pyrfold.foldingsub.FoldingSubData at 0x7f143cd18cd0>,\n",
        " 'Sman-10-3': <pyrfold.foldingsub.FoldingSubData at 0x7f143cd18c90>,\n",
        " 'Sman-20-0': <pyrfold.foldingsub.FoldingSubData at 0x7f143cd18ed0>,\n",
        " 'Sman-20-1': <pyrfold.foldingsub.FoldingSubData at 0x7f143cd18f10>,\n",
        " 'Sman-20-2': <pyrfold.foldingsub.FoldingSubData at 0x7f143cd18e50>,\n",
        " 'Sman-20-3': <pyrfold.foldingsub.FoldingSubData at 0x7f143cd18e90>,\n",
        " 'Sman-30-0': <pyrfold.foldingsub.FoldingSubData at 0x7f143cd18f50>,\n",
        " 'Sman-30-1': <pyrfold.foldingsub.FoldingSubData at 0x7f143cd18d90>,\n",
        " 'Sman-30-2': <pyrfold.foldingsub.FoldingSubData at 0x7f143cd185d0>,\n",
        " 'Sman-30-3': <pyrfold.foldingsub.FoldingSubData at 0x7f143cd18610>,\n",
        " 'sTRSV-2-10-0': <pyrfold.foldingsub.FoldingSubData at 0x7f143cd18850>,\n",
        " 'sTRSV-2-10-1': <pyrfold.foldingsub.FoldingSubData at 0x7f143cd18890>,\n",
        " 'sTRSV-2-10-2': <pyrfold.foldingsub.FoldingSubData at 0x7f143cd188d0>,\n",
        " 'sTRSV-2-10-3': <pyrfold.foldingsub.FoldingSubData at 0x7f143cd18910>,\n",
        " 'sTRSV-2-20-0': <pyrfold.foldingsub.FoldingSubData at 0x7f143cd18090>,\n",
        " 'sTRSV-2-20-1': <pyrfold.foldingsub.FoldingSubData at 0x7f143cd182d0>,\n",
        " 'sTRSV-2-20-2': <pyrfold.foldingsub.FoldingSubData at 0x7f143cd18710>,\n",
        " 'sTRSV-2-20-3': <pyrfold.foldingsub.FoldingSubData at 0x7f143cd186d0>,\n",
        " 'sTRSV-2-30-0': <pyrfold.foldingsub.FoldingSubData at 0x7f143cd18b10>,\n",
        " 'sTRSV-2-30-1': <pyrfold.foldingsub.FoldingSubData at 0x7f143cd18b50>,\n",
        " 'sTRSV-2-30-2': <pyrfold.foldingsub.FoldingSubData at 0x7f143cd18a90>,\n",
        " 'sTRSV-2-30-3': <pyrfold.foldingsub.FoldingSubData at 0x7f143cd18ad0>}"
       ]
      }
     ],
     "prompt_number": 8
    },
    {
     "cell_type": "code",
     "collapsed": false,
     "input": [],
     "language": "python",
     "metadata": {},
     "outputs": []
    }
   ],
   "metadata": {}
  }
 ]
}