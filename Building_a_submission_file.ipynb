{
 "metadata": {
  "name": "",
  "signature": "sha256:a38d34f54f1325629b076d6739e07187d86b8b077e79c86b8bed63f001f96116"
 },
 "nbformat": 3,
 "nbformat_minor": 0,
 "worksheets": [
  {
   "cells": [
    {
     "cell_type": "heading",
     "level": 1,
     "metadata": {},
     "source": [
      "Introduction"
     ]
    },
    {
     "cell_type": "markdown",
     "metadata": {},
     "source": [
      "This notebook should serve as a basic template and a walkthrough for making a submission csv file for generating hyak simulation data. \n",
      "\n",
      "First thing is first. We need to define what we are working with. For this example I will be defining a left and right context and then combining multiple parts and insulating sequences into a simuation dictionary. "
     ]
    },
    {
     "cell_type": "code",
     "collapsed": false,
     "input": [
      "#Context sequences\n",
      "fiveflank = \"CTTACGATGTTCCAGATTACGCTCCCATGGTGAGCAAGGGCGAGGAGCTGTTCACCGGGGTGGTGCCCATCCTGGTCGAGCTGGACGGCGACGTAAACGGCCACAAGTTCAGCGTGTCCGGCGAGGGCGAGGTGAGTCTATGGGACCCTTGATGTTTTCTTTCCCCTTCTTTTCTATGGTTAAGTTCATGTCATAGGAAGGGGAGAAGTAACAGGGTACAGTTTAGAATGGGAAACAGACGAATGATTGCATCAGTGTGGAAGTCTCAGGATCGTTTTAGTTTCTTTTATTTGCTGTTCATAACAATTggatcc\"\n",
      "threeflank = \"ggatccGTTTTCTTTTGTTTAATTCTTGCTTTCTTTTTTTTTCTTCTCCGCAATTTTTACTATTATACTTAATGCCTTAACATTGTGTATAACAAAAGGAAATATCTCTGAGATACATTAAGTAACTTAAAAAAAAACTTTACACAGTCTGCCTAGTACATTACTATTTGGAATATATGTGTGCTTATTTGCATATTCATAATCTCCCTACTTTATTTTCTTTTATTTTTAATTGATACATAATCATTATACATATTTATGGGTTAAAGTGT\"\n",
      "#part sequences\n",
      "parts = {'ASBV-1': 'GGGACGGGCCAUCAUCUAUCCCUGAAGAGACGAAGGCUUCGGCCAAGUCGAAACGGAAACGUCGGAUAGUCGCCCGUCCC',\n",
      "         'sTRSV-2': 'GGGCCUGUCACCGGAUGUGCUUUCCGGUCUGAUGAGUCCCUGAAAUGGGACGAAACAGGCCC',\n",
      "         'Sman': 'GGGCGAAAGCCGGCGCGUCCUGGAUUCCACUGCUUCGGCAGGUACAUCCAGCUGAUGAGUCCCAAAUAGGACGAAACGCGCU',\n",
      "         'ASBV-3': 'GGGACGGGCCAUCAUCUAUCCCUGAAGAGACGAAGGCUUCGGCCUCGUCGAAACGGAAACGUGGGAUAGUCGCCCGUCCC'}\n",
      "#insulating sequences\n",
      "insulatingsequences = {'ASBV-1': ['CUGACCAACCCAUA', 'AAUAGUAACCAAAC', '044', '017'],\n",
      "'ASBV-3': ['UGGGAGAAAUAGUAC', 'UGUGGAACAAACG', '043', '017'],\n",
      "'Sman': ['CGAGAGAACACAUGA', 'AAAAAAAACAA', '030', '007'],\n",
      "'sTRSV-2': ['UGCUAGCGAUGCGC', 'CUGCGUAAACG', '033', '017']}\n",
      "\n",
      "import pickle\n",
      "#Now let's load the reference structures\n",
      "referencedata = pickle.load(open('exampledata/reference_part_structures.p', 'rb'))"
     ],
     "language": "python",
     "metadata": {},
     "outputs": [],
     "prompt_number": 5
    },
    {
     "cell_type": "markdown",
     "metadata": {},
     "source": [
      "These devices are going to be folded multiple times at different windows and at different rates, as a cosequence they are going to need a unique name for every submission"
     ]
    },
    {
     "cell_type": "code",
     "collapsed": false,
     "input": [
      "#Let's look at the reference structure that we're working with\n",
      "referencedata\n"
     ],
     "language": "python",
     "metadata": {},
     "outputs": [
      {
       "metadata": {},
       "output_type": "pyout",
       "prompt_number": 6,
       "text": [
        "{'parts': {'ASBV-1': {'dotbracket': Counter({'(((((((((......((((((.......(((...(((....)))..)))...(((....))).))))))..)))))))))': 1.0}),\n",
        "   'sequence': 'GGGACGGGCCAUCAUCUAUCCCUGAAGAGACGAAGGCUUCGGCCAAGUCGAAACGGAAACGUCGGAUAGUCGCCCGUCCC'},\n",
        "  'ASBV-3': {'dotbracket': Counter({'(((((((((......(((((((......((((.((((....))))))))...(((....))))))))))..)))))))))': 0.666, '(((((((((......(((((((......(((((.(((....))))))))...(((....))))))))))..)))))))))': 0.334}),\n",
        "   'sequence': 'GGGACGGGCCAUCAUCUAUCCCUGAAGAGACGAAGGCUUCGGCCUCGUCGAAACGGAAACGUGGGAUAGUCGCCCGUCCC'},\n",
        "  'Sman': {'dotbracket': Counter({'.(((....)))(((((((.((((((....((((....))))....)))))).......((((......))))...)))))))': 1.0}),\n",
        "   'sequence': 'GGGCGAAAGCCGGCGCGUCCUGGAUUCCACUGCUUCGGCAGGUACAUCCAGCUGAUGAGUCCCAAAUAGGACGAAACGCGCU'},\n",
        "  'sTRSV-2': {'dotbracket': Counter({'((((((((.((((((.......)))))).......(((((......)))))...))))))))': 1.0}),\n",
        "   'sequence': 'GGGCCUGUCACCGGAUGUGCUUUCCGGUCUGAUGAGUCCCUGAAAUGGGACGAAACAGGCCC'}}}"
       ]
      }
     ],
     "prompt_number": 6
    },
    {
     "cell_type": "markdown",
     "metadata": {},
     "source": [
      "This reference data is in the structure of 'finalstructure' data that is output by kinefold processing scripts. For every part in the 'parts' index there are dotbracket counters and sequences. Let's build an example for submission using these new scripts and some arbitrary sequences."
     ]
    },
    {
     "cell_type": "code",
     "collapsed": false,
     "input": [
      "import pyrfold\n",
      "farleftcontext = pyrfold.design.insulating.sequence_generator(30, 'D')\n",
      "farrightcontext = pyrfold.design.insulating.sequence_generator(30, 'D')\n",
      "print farleftcontext\n",
      "print farrightcontext"
     ],
     "language": "python",
     "metadata": {},
     "outputs": [
      {
       "output_type": "stream",
       "stream": "stdout",
       "text": [
        "ACAGCGGTTATACCACTCGTAGTCCCGTGT\n",
        "GCGAGAACTGATTTTGCACCAGTTAAGATT\n"
       ]
      }
     ],
     "prompt_number": 7
    },
    {
     "cell_type": "markdown",
     "metadata": {},
     "source": [
      "For this example let's fold two parts"
     ]
    },
    {
     "cell_type": "code",
     "collapsed": false,
     "input": [
      "parts = ['ASBV-1', 'Sman']"
     ],
     "language": "python",
     "metadata": {},
     "outputs": [],
     "prompt_number": 8
    },
    {
     "cell_type": "code",
     "collapsed": false,
     "input": [
      "#Now let's make 50 parts to test:\n",
      "from random import choice\n",
      "from pyrfold.foldingsub import FoldingSubData\n",
      "insulatingsize = [5, 8, 10]\n",
      "submissiondict = {}\n",
      "\n",
      "for i in range(50):\n",
      "    #generate three different random insulating sequences \n",
      "    insulatingsequencelist = []\n",
      "    for p in range(3):\n",
      "        insualtingsize = choice(insulatingsize)\n",
      "        insulatingsequencelist.append(pyrfold.design.insulating.sequence_generator(insualtingsize, 'D'))\n",
      "    #Now we make a submission object\n",
      "    #First combine all of the parts \n",
      "    sequence = farleftcontext + insulatingsequencelist[0] + referencedata['parts'][parts[0]]['sequence'] + \\\n",
      "               insulatingsequencelist[1] + referencedata['parts'][parts[1]]['sequence'] + \\\n",
      "               insulatingsequencelist[2] + farrightcontext\n",
      "    #Now we have to track the part list:\n",
      "    partlist = parts\n",
      "    partstartstoplist = [[len(farleftcontext + insulatingsequencelist[0]) + 1, len(farleftcontext + insulatingsequencelist[0] + referencedata['parts'][parts[0]]['sequence'])],\n",
      "                         [len(farleftcontext + insulatingsequencelist[0] + referencedata['parts'][parts[0]]['sequence'] + \\\n",
      "                          insulatingsequencelist[1]) + 1, len(farleftcontext + insulatingsequencelist[0] + referencedata['parts'][parts[0]]['sequence'] + \\\n",
      "                       insulatingsequencelist[1] + referencedata['parts'][parts[1]]['sequence'] )]]\n",
      "    #pick the number of simulations \n",
      "    numberofsims = 10\n",
      "    #Pick the downstream start position (let's base this on the position of the second part)\n",
      "    windowstop = partstartstoplist[1][1] + 10\n",
      "    #pick upstream position\n",
      "    windowstart = partstartstoplist[0][0] - 10\n",
      "    #Pick the polrate and dwell time\n",
      "    polrate = 30 #nt/s\n",
      "    dwelltime = 1 #s\n",
      "    #Pick a position reference structure (this is important for reframing the window during resubmission)\n",
      "    positionreferenstruct = parts[0]\n",
      "    #Let's make up a name for this device \n",
      "    devicename = 'testrun--' + str(i)\n",
      "    \n",
      "    #Now enter all of this data into the FoldingSubData\n",
      "    tempsub = FoldingSubData(name = devicename, sequence = sequence, windowstart=windowstart, windowstop=windowstop,\n",
      "        partstartstoplist=partstartstoplist, partnamelist=partlist, referencepart=positionreferenstruct,\n",
      "        forcedhelixes=[], polrate=polrate, foldtimeafter=dwelltime, experimenttype=2,\n",
      "        pseudoknots=0, entanglements=0, numberofsimulations=numberofsims)\n",
      "    #Let's populate a dictionary with these devices\n",
      "    submissiondict[devicename] = tempsub\n",
      "    "
     ],
     "language": "python",
     "metadata": {},
     "outputs": [],
     "prompt_number": 9
    },
    {
     "cell_type": "code",
     "collapsed": false,
     "input": [
      "#Let's do some tests to see what's what in one of these structures\n",
      "sequence = submissiondict['testrun--0'].sequence\n",
      "partname = 'ASBV-1'\n",
      "asbvstartstop = submissiondict['testrun--0'].part_start_stop(partname)\n",
      "print partname\n",
      "print sequence[asbvstartstop[0] - 1: asbvstartstop[1]]\n",
      "print referencedata['parts'][partname]['sequence']\n",
      "partname = 'Sman'\n",
      "asbvstartstop = submissiondict['testrun--0'].part_start_stop(partname)\n",
      "print partname\n",
      "print sequence[asbvstartstop[0] - 1: asbvstartstop[1]]\n",
      "print referencedata['parts'][partname]['sequence']"
     ],
     "language": "python",
     "metadata": {},
     "outputs": [
      {
       "output_type": "stream",
       "stream": "stdout",
       "text": [
        "ASBV-1\n",
        "GGGACGGGCCAUCAUCUAUCCCUGAAGAGACGAAGGCUUCGGCCAAGUCGAAACGGAAACGUCGGAUAGUCGCCCGUCCC\n",
        "GGGACGGGCCAUCAUCUAUCCCUGAAGAGACGAAGGCUUCGGCCAAGUCGAAACGGAAACGUCGGAUAGUCGCCCGUCCC\n",
        "Sman\n",
        "GGGCGAAAGCCGGCGCGUCCUGGAUUCCACUGCUUCGGCAGGUACAUCCAGCUGAUGAGUCCCAAAUAGGACGAAACGCGCU\n",
        "GGGCGAAAGCCGGCGCGUCCUGGAUUCCACUGCUUCGGCAGGUACAUCCAGCUGAUGAGUCCCAAAUAGGACGAAACGCGCU\n"
       ]
      }
     ],
     "prompt_number": 10
    },
    {
     "cell_type": "markdown",
     "metadata": {},
     "source": [
      "Alright! The submission data appears to have worked out"
     ]
    },
    {
     "cell_type": "markdown",
     "metadata": {},
     "source": [
      "Now we have to submit these files for simulations, we are going to do multiple rounds of simulations - consequently we have to submit in a specific file hirearchy:\n",
      "\n",
      ">EXPERIMENTFOLDER\n",
      ">>PYRFOLD\n",
      "\n",
      ">>EXPERIMENTDIRECTORY\n",
      ">>>ROUND-1.csv\n",
      "\n",
      ">processingscripts.py\n",
      "\n",
      ">reference_part_structures.p\n"
     ]
    },
    {
     "cell_type": "code",
     "collapsed": false,
     "input": [
      "#Let's build this directory\n",
      "import os\n",
      "os.makedirs('140429_test')\n",
      "os.makedirs(os.path.join('140429_test', 'test'))\n",
      "pathtowritethesubdata = os.path.join('140429_test', 'test')\n",
      "#use pyrfold to write the submission file \n",
      "pyrfold.pyrfile.filled_in_form(os.path.join(pathtowritethesubdata, 'round_1_sub'), submissiondict)"
     ],
     "language": "python",
     "metadata": {},
     "outputs": [],
     "prompt_number": 14
    },
    {
     "cell_type": "markdown",
     "metadata": {},
     "source": [
      "Now that this is build we can move everything else into the file structure manually. \n",
      "\n",
      "After this we can move this to hyak and then start processing the data. **NOTE** one must use the submission_directory.py script since there is an additional directory level. "
     ]
    },
    {
     "cell_type": "code",
     "collapsed": false,
     "input": [],
     "language": "python",
     "metadata": {},
     "outputs": []
    }
   ],
   "metadata": {}
  }
 ]
}