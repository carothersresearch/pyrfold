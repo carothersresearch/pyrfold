{
 "metadata": {
  "name": "",
  "signature": "sha256:5c17d181bcd21c3d8d064d99fdf539ca083f96da50898c5809e94a77f57859e2"
 },
 "nbformat": 3,
 "nbformat_minor": 0,
 "worksheets": [
  {
   "cells": [
    {
     "cell_type": "heading",
     "level": 1,
     "metadata": {},
     "source": [
      "Introduction"
     ]
    },
    {
     "cell_type": "markdown",
     "metadata": {},
     "source": [
      "##Goal##\n",
      "The goal of this notebook is to introduce you to the TimeCourseStructure class that has been developed for pyrfold. This class is especially good at processing the pickled dictionaries that are currently (140509) produced on hyak. "
     ]
    },
    {
     "cell_type": "code",
     "collapsed": false,
     "input": [
      "#First we can load in the example data\n",
      "import pickle\n",
      "with open('exampledata/example_timecourse.p', 'rb') as temppick:\n",
      "    timedata = pickle.load(temppick)"
     ],
     "language": "python",
     "metadata": {},
     "outputs": [],
     "prompt_number": 1
    },
    {
     "cell_type": "code",
     "collapsed": false,
     "input": [
      "#Import the object which does all of the heavey lifting\n",
      "from pyrfold.analyze.timecourse import TimeCourseStructure"
     ],
     "language": "python",
     "metadata": {},
     "outputs": [],
     "prompt_number": 2
    },
    {
     "cell_type": "code",
     "collapsed": false,
     "input": [
      "#initialize the object with the dictionary\n",
      "timeobj = TimeCourseStructure(dictionaryofruns=timedata)"
     ],
     "language": "python",
     "metadata": {},
     "outputs": [],
     "prompt_number": 3
    },
    {
     "cell_type": "markdown",
     "metadata": {},
     "source": [
      "Now that we have the object initialized we can extract data from it. We do this through the call:\n",
      "\n",
      "    timeboj.generate_data(structurewindow = [], timewindow = [], cutoff = 0.0)\n",
      "    \n",
      "Structure window is a list containing the start and stop indexes (1 indexed) of the sequence you want look at. The time window tells the object when in time to evaluate these things. If you leave the time window blank it will look at all points in time. Cutoff will remove all structures that observed that do not appear at a MAXIMIM frequency which is above the cutoff. By default this cutoff value is set to 0.0, so all structures that appear will be considered."
     ]
    },
    {
     "cell_type": "code",
     "collapsed": false,
     "input": [
      "timeobj.generate_data(structurewindow=[1,20])"
     ],
     "language": "python",
     "metadata": {},
     "outputs": [],
     "prompt_number": 4
    },
    {
     "cell_type": "markdown",
     "metadata": {},
     "source": [
      "Now we have data, but obviously you can't see it - so what do we have to work with? I've defined a:\n",
      "\n",
      "    __repr__\n",
      "    \n",
      "function in the TimeCourseStructure so that some data can be immediately displayed.\n",
      "\n",
      "This displays the unique structures: the time they appear at their max: the frequency of their maximum"
     ]
    },
    {
     "cell_type": "code",
     "collapsed": false,
     "input": [
      "timeobj"
     ],
     "language": "python",
     "metadata": {},
     "outputs": [
      {
       "metadata": {},
       "output_type": "pyout",
       "prompt_number": 5,
       "text": [
        "======================================================\n",
        "UACGGAAGUGGGGACGGGCC   Time (ms)   Max Freq\n",
        "(((....)))..........   634.488571429         1.0\n",
        ".......((((.......))   701.288571429         0.1\n",
        "(((....)))((((....))   703.888571429         1.0\n",
        ".........(((((....))   737.688571429         1.0\n",
        "........((((((....))   771.988571429         1.0\n",
        ".......(((((((....))   806.088571429         1.0\n",
        "...(((..((((((....))   882.688571429         1.0\n",
        "...(((.(((((((....))   1007.18857143         1.0\n",
        "(((....)))......((((   1576.68857143         0.1\n",
        "(((....))).....(((((   1612.68857143         0.1\n",
        "....((((((((((......   1634.48857143         0.1\n",
        "...(((.((((.......))   1635.38857143         0.2\n",
        "(((....))).(((......   1645.88857143         0.1\n",
        "(((....)))....((((((   1673.78857143         0.1\n",
        "(((....))).(((((((((   1773.48857143         0.2\n",
        "(((....))).....(((..   1935.98857143         0.2\n",
        "........((((((......   2015.78857143         0.1\n",
        "(((....))).......(((   2076.38857143         0.2\n",
        "(((....)))((((......   2280.38857143         0.9\n",
        ".(((...(((((((....))   2371.68857143         0.1\n",
        "(((....)))..(((.....   2675.98857143         0.1\n",
        "(((....)))......(((.   2792.88857143         0.6\n",
        "(((....)))(((.......   2812.28857143         0.2\n",
        "(((....))).....((((.   2830.08857143         0.6\n",
        "..(((...((((((......   2848.08857143         0.1\n",
        "(((....)))....(((((.   2860.88857143         0.8\n",
        ".((((...((((((......   2880.98857143         0.2\n",
        "(((....)))...((((((.   2885.38857143         0.8\n",
        ".((((..(((((((......   2891.98857143         0.1\n",
        ".((((..(((((((....))   2892.88857143         0.1\n",
        "............(((((((.   2913.38857143         0.1\n",
        "(((....)))..(((((((.   2923.58857143         0.8\n",
        "...........((((((((.   2939.48857143         0.1\n",
        "(((....))).((((((((.   2949.48857143         0.8\n",
        "...(((..(((((((.....   2953.48857143         0.1\n",
        "..........(((((((((.   2987.48857143         0.1\n",
        "...(((........(((((.   2999.18857143         0.1\n",
        ".((((...(((((((.....   3040.48857143         0.1\n",
        "(((....)))(((((((((.   3466.78857143         1.0\n",
        "......(((((((((((((.   3620.18857143         1.0\n",
        "...(((.((((((((((((.   3916.08857143         0.6\n",
        "...((((((((((((((((.   4003.68857143         1.0\n",
        "..(((((((((((((((((.   4472.68857143         0.1\n",
        "..(((.(((((((((((((.   4601.78857143         0.1\n",
        ".......((((((((((((.   4688.18857143         0.1\n",
        ".((((.....(((((((((.   5868.58857143         0.1"
       ]
      }
     ],
     "prompt_number": 5
    },
    {
     "cell_type": "markdown",
     "metadata": {},
     "source": [
      "To see the raw data from which this information is generated you'll want to use the call:\n",
      "\n",
      "    timeobj.structures"
     ]
    },
    {
     "cell_type": "code",
     "collapsed": false,
     "input": [
      "timeobj.structures"
     ],
     "language": "python",
     "metadata": {},
     "outputs": [
      {
       "metadata": {},
       "output_type": "pyout",
       "prompt_number": 6,
       "text": [
        "{'(((....)))(((((((((.': [3466.7885714285712, 1.0],\n",
        " '(((....)))((((....))': [703.88857142857137, 1.0],\n",
        " '(((....)))((((......': [2280.3885714285716, 0.90000000000000002],\n",
        " '(((....)))(((.......': [2812.2885714285712, 0.20000000000000001],\n",
        " '(((....))).(((((((((': [1773.4885714285715, 0.20000000000000001],\n",
        " '(((....))).((((((((.': [2949.4885714285715, 0.80000000000000004],\n",
        " '(((....))).(((......': [1645.8885714285714, 0.10000000000000001],\n",
        " '(((....)))..(((((((.': [2923.5885714285714, 0.80000000000000004],\n",
        " '(((....)))..(((.....': [2675.9885714285715, 0.10000000000000001],\n",
        " '(((....)))...((((((.': [2885.3885714285716, 0.80000000000000004],\n",
        " '(((....)))....((((((': [1673.7885714285715, 0.10000000000000001],\n",
        " '(((....)))....(((((.': [2860.8885714285716, 0.80000000000000004],\n",
        " '(((....))).....(((((': [1612.6885714285713, 0.10000000000000001],\n",
        " '(((....))).....((((.': [2830.0885714285714, 0.59999999999999998],\n",
        " '(((....))).....(((..': [1935.9885714285715, 0.20000000000000001],\n",
        " '(((....)))......((((': [1576.6885714285713, 0.10000000000000001],\n",
        " '(((....)))......(((.': [2792.8885714285716, 0.59999999999999998],\n",
        " '(((....))).......(((': [2076.3885714285716, 0.20000000000000001],\n",
        " '(((....)))..........': [634.48857142857139, 1.0],\n",
        " '.((((..(((((((....))': [2892.8885714285716, 0.10000000000000001],\n",
        " '.((((..(((((((......': [2891.9885714285715, 0.10000000000000001],\n",
        " '.((((...(((((((.....': [3040.4885714285715, 0.10000000000000001],\n",
        " '.((((...((((((......': [2880.9885714285715, 0.20000000000000001],\n",
        " '.((((.....(((((((((.': [5868.5885714285714, 0.10000000000000001],\n",
        " '.(((...(((((((....))': [2371.6885714285713, 0.10000000000000001],\n",
        " '..(((((((((((((((((.': [4472.6885714285718, 0.10000000000000001],\n",
        " '..(((.(((((((((((((.': [4601.7885714285712, 0.10000000000000001],\n",
        " '..(((...((((((......': [2848.0885714285714, 0.10000000000000001],\n",
        " '...((((((((((((((((.': [4003.6885714285713, 1.0],\n",
        " '...(((.((((((((((((.': [3916.0885714285714, 0.59999999999999998],\n",
        " '...(((.(((((((....))': [1007.1885714285714, 1.0],\n",
        " '...(((.((((.......))': [1635.3885714285714, 0.20000000000000001],\n",
        " '...(((..(((((((.....': [2953.4885714285715, 0.10000000000000001],\n",
        " '...(((..((((((....))': [882.68857142857144, 1.0],\n",
        " '...(((........(((((.': [2999.1885714285713, 0.10000000000000001],\n",
        " '....((((((((((......': [1634.4885714285715, 0.10000000000000001],\n",
        " '......(((((((((((((.': [3620.1885714285713, 1.0],\n",
        " '.......((((((((((((.': [4688.1885714285718, 0.10000000000000001],\n",
        " '.......(((((((....))': [806.08857142857141, 1.0],\n",
        " '.......((((.......))': [701.28857142857146, 0.10000000000000001],\n",
        " '........((((((....))': [771.98857142857139, 1.0],\n",
        " '........((((((......': [2015.7885714285715, 0.10000000000000001],\n",
        " '.........(((((....))': [737.68857142857144, 1.0],\n",
        " '..........(((((((((.': [2987.4885714285715, 0.10000000000000001],\n",
        " '...........((((((((.': [2939.4885714285715, 0.10000000000000001],\n",
        " '............(((((((.': [2913.3885714285716, 0.10000000000000001]}"
       ]
      }
     ],
     "prompt_number": 6
    },
    {
     "cell_type": "markdown",
     "metadata": {},
     "source": [
      "Now let's say that you are very interested in a specific structure and how it changes with time. This object has data stored in itself and can be called using:\n",
      "\n",
      "    timeobj.timedata\n",
      "    \n",
      "This is a dictionary with keys being unique structure and value being an array with time in the first column and frequency in the second column"
     ]
    },
    {
     "cell_type": "code",
     "collapsed": false,
     "input": [
      "timeobj.timedata['...(((..((((((....))']"
     ],
     "language": "python",
     "metadata": {},
     "outputs": [
      {
       "metadata": {},
       "output_type": "pyout",
       "prompt_number": 9,
       "text": [
        "array([[    0.        ,     0.        ],\n",
        "       [  634.48857143,     0.        ],\n",
        "       [  668.18857143,     0.        ],\n",
        "       ..., \n",
        "       [ 6724.48857143,     0.        ],\n",
        "       [ 6760.98857143,     0.        ],\n",
        "       [ 6788.28857143,     0.        ]])"
       ]
      }
     ],
     "prompt_number": 9
    },
    {
     "cell_type": "markdown",
     "metadata": {},
     "source": [
      "Now we can easily plot this information using matplotlib (and thanks to iPython notebook we can render these things inline!)"
     ]
    },
    {
     "cell_type": "code",
     "collapsed": false,
     "input": [
      "%pylab inline\n",
      "import matplotlib.pyplot as plt\n",
      "timefreq = timeobj.timedata['...(((..((((((....))']\n",
      "fig = plt.figure()\n",
      "plt.plot(timefreq[:,0], timefreq[:,1])\n",
      "plt.title('...(((..((((((....)) dynamics')\n",
      "plt.xlabel('Time [ms]')\n",
      "plt.ylabel('Frequency [-]')"
     ],
     "language": "python",
     "metadata": {},
     "outputs": [
      {
       "output_type": "stream",
       "stream": "stdout",
       "text": [
        "Populating the interactive namespace from numpy and matplotlib\n"
       ]
      },
      {
       "metadata": {},
       "output_type": "pyout",
       "prompt_number": 14,
       "text": [
        "<matplotlib.text.Text at 0x7f30e8e45b50>"
       ]
      },
      {
       "metadata": {},
       "output_type": "display_data",
       "png": "[encoded data removed]",
       "text": [
        "<matplotlib.figure.Figure at 0x7f30e8eb1b90>"
       ]
      }
     ],
     "prompt_number": 14
    },
    {
     "cell_type": "code",
     "collapsed": false,
     "input": [],
     "language": "python",
     "metadata": {},
     "outputs": []
    },
    {
     "cell_type": "markdown",
     "metadata": {},
     "source": [
      "wants:\n",
      "input\n",
      "give a strucutre (just a structure)\n",
      ", where the structure is (start location) \n",
      "output\n",
      "when and how much appears\n",
      "\n",
      "Want to be able to plot it\n",
      "\n",
      "Integrate these things \n",
      "\n",
      "Compare multiple parts \n",
      "\n"
     ]
    }
   ],
   "metadata": {}
  }
 ]
}