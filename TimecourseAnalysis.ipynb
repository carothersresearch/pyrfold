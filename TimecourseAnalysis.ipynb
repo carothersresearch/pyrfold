{
 "metadata": {
  "name": "",
  "signature": "sha256:2bb46befa278fe4b6bc7b690d2c7da067b0a46e34524ab62a7468783799720e3"
 },
 "nbformat": 3,
 "nbformat_minor": 0,
 "worksheets": [
  {
   "cells": [
    {
     "cell_type": "heading",
     "level": 1,
     "metadata": {},
     "source": [
      "Introduction"
     ]
    },
    {
     "cell_type": "markdown",
     "metadata": {},
     "source": [
      "##Goal##\n",
      "The goal of this notebook is to introduce you to the TimeCourseStructure class that has been developed for pyrfold. This class is especially good at processing the pickled dictionaries that are currently (140509) produced on hyak. \n",
      "\n",
      "These data structures additionally"
     ]
    },
    {
     "cell_type": "code",
     "collapsed": false,
     "input": [],
     "language": "python",
     "metadata": {},
     "outputs": []
    }
   ],
   "metadata": {}
  }
 ]
}