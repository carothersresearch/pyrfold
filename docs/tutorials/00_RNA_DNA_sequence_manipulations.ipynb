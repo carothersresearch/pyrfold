{
 "cells": [
  {
   "cell_type": "code",
   "execution_count": null,
   "metadata": {
    "collapsed": true
   },
   "outputs": [],
   "source": []
  },
  {
   "cell_type": "markdown",
   "metadata": {},
   "source": [
    "# 00 RNA DNA sequence manipulations\n",
    "\n",
    "## Goal\n",
    "\n",
    "Here you learn the basic functionality that pyrfold has for creating and manipulating RNA and DNA sequences."
   ]
  },
  {
   "cell_type": "markdown",
   "metadata": {},
   "source": [
    "# Importing dependencies"
   ]
  },
  {
   "cell_type": "code",
   "execution_count": 4,
   "metadata": {
    "collapsed": false
   },
   "outputs": [],
   "source": [
    "import sys\n",
    "#makin pyrfold visible to the system\n",
    "sys.path.append('../../')\n",
    "import pyrfold as pyr"
   ]
  },
  {
   "cell_type": "markdown",
   "metadata": {},
   "source": [
    "## Basic operations\n",
    "\n",
    "All of these basic functions are found in the `utilities` section of pyrfold\n",
    "\n",
    "Here we'll be working with the RNA sequence for the ASBV-1 ribozyme\n",
    "\n",
    "    GGGACGGGCCAUCAUCUAUCCCUGAAGAGACGAAGGCUUCGGCCAAGUCGAAACGGAAACGUCGGAUAGUCGCCCGUCCC"
   ]
  },
  {
   "cell_type": "code",
   "execution_count": 11,
   "metadata": {
    "collapsed": false
   },
   "outputs": [
    {
     "name": "stdout",
     "output_type": "stream",
     "text": [
      "GGGACGGGCCAUCAUCUAUCCCUGAAGAGACGAAGGCUUCGGCCAAGUCGAAACGGAAACGUCGGAUAGUCGCCCGUCCC\n"
     ]
    }
   ],
   "source": [
    "ribozyme_RNA_sequence = 'GGGACGGGCCAUCAUCUAUCCCUGAAGAGACGAAGGCUUCGGCCAAGUCGAAACGGAAACGUCGGAUAGUCGCCCGUCCC'\n",
    "print ribozyme_RNA_sequence"
   ]
  },
  {
   "cell_type": "code",
   "execution_count": 10,
   "metadata": {
    "collapsed": false
   },
   "outputs": [
    {
     "name": "stdout",
     "output_type": "stream",
     "text": [
      "GGGACGGGCCAUCAUCUAUCCCUGAAGAGACGAAGGCUUCGGCCAAGUCGAAACGGAAACGUCGGAUAGUCGCCCGUCCC\n"
     ]
    }
   ],
   "source": [
    "# Converting to DNA\n",
    "ribozyme_DNA_sequence = pyr.utilities.convert_to_RNA(ribozyme_RNA_sequence)\n",
    "print ribozyme_DNA_sequence"
   ]
  },
  {
   "cell_type": "code",
   "execution_count": 14,
   "metadata": {
    "collapsed": false
   },
   "outputs": [
    {
     "name": "stdout",
     "output_type": "stream",
     "text": [
      "GGGACGGGCGACUAUCCGACGUUUCCGUUUCGACUUGGCCGAAGCCUUCGUCUCUUCAGGGAUAGAUGAUGGCCCGUCCC\n"
     ]
    }
   ],
   "source": [
    "# Determining reverese complement\n",
    "ribozyme_RNA_reverse_complement = pyr.utilities.reverse_complement(ribozyme_RNA_sequence, strand_type='RNA')\n",
    "print ribozyme_RNA_reverse_complement"
   ]
  },
  {
   "cell_type": "code",
   "execution_count": 15,
   "metadata": {
    "collapsed": false
   },
   "outputs": [
    {
     "data": {
      "text/plain": [
       "True"
      ]
     },
     "execution_count": 15,
     "metadata": {},
     "output_type": "execute_result"
    }
   ],
   "source": [
    "# Testing whether these sequences complement eachother\n",
    "pyr.utilities.RNA_sequences_complementary(ribozyme_RNA_reverse_complement, \n",
    "                                          ribozyme_RNA_sequence)"
   ]
  },
  {
   "cell_type": "code",
   "execution_count": null,
   "metadata": {
    "collapsed": true
   },
   "outputs": [],
   "source": [
    "# "
   ]
  }
 ],
 "metadata": {
  "kernelspec": {
   "display_name": "Python 2",
   "language": "python",
   "name": "python2"
  },
  "language_info": {
   "codemirror_mode": {
    "name": "ipython",
    "version": 2
   },
   "file_extension": ".py",
   "mimetype": "text/x-python",
   "name": "python",
   "nbconvert_exporter": "python",
   "pygments_lexer": "ipython2",
   "version": "2.7.6"
  }
 },
 "nbformat": 4,
 "nbformat_minor": 0
}
