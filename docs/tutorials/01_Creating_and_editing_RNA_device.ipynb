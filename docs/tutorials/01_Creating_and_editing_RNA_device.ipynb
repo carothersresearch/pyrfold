{
 "cells": [
  {
   "cell_type": "markdown",
   "metadata": {
    "collapsed": true
   },
   "source": [
    "# Importing dependencies"
   ]
  },
  {
   "cell_type": "code",
   "execution_count": 1,
   "metadata": {
    "collapsed": true
   },
   "outputs": [],
   "source": [
    "import sys\n",
    "#makin pyrfold visible to the system\n",
    "sys.path.append('../../')\n",
    "import pyrfold as pyr"
   ]
  },
  {
   "cell_type": "markdown",
   "metadata": {},
   "source": [
    "## Defining RNA component parts that have defined characteristics"
   ]
  },
  {
   "cell_type": "code",
   "execution_count": 2,
   "metadata": {
    "collapsed": false
   },
   "outputs": [],
   "source": [
    "helix1 = pyr.design.RNA.Helix(size_range=(10,15), GC_range=None)\n",
    "unpaired1 = pyr.design.RNA.Unpaired(size_range=(15, 30), GC_range=[0.4, 0.7])\n",
    "unpaired2 = pyr.design.RNA.Unpaired(size_range=(15, 30), GC_range=None)"
   ]
  },
  {
   "cell_type": "code",
   "execution_count": 3,
   "metadata": {
    "collapsed": false
   },
   "outputs": [
    {
     "name": "stdout",
     "output_type": "stream",
     "text": [
      "GAUUAUAUAAUGAU\n",
      "AUCAUUAUAUAAUC\n"
     ]
    }
   ],
   "source": [
    "helix1.randomize()\n",
    "print helix1.helix0\n",
    "print helix1.helix1"
   ]
  },
  {
   "cell_type": "code",
   "execution_count": 4,
   "metadata": {
    "collapsed": false
   },
   "outputs": [
    {
     "name": "stdout",
     "output_type": "stream",
     "text": [
      "CAAUCGAUUUUUCCUAGAAACUUAGUCGGC\n"
     ]
    }
   ],
   "source": [
    "unpaired1.randomize()\n",
    "print unpaired1"
   ]
  },
  {
   "cell_type": "markdown",
   "metadata": {},
   "source": [
    "## Defining RNA components that have a SET sequence"
   ]
  },
  {
   "cell_type": "code",
   "execution_count": 5,
   "metadata": {
    "collapsed": true
   },
   "outputs": [],
   "source": [
    "upstream_context = 'AGAGCAUCAGACGGGCUgGUCAGACUAUCUAUCUAUCgAUCUGAUCCUACUGUGUACgUGUAGUAUGCAUGACG'\n",
    "downstream_context = 'GAGCUUCAGCAGCUaCGugACguuCgagugggguCAugUgguUGCguugUACUCUGaCUCUGaCUGUCGUCAUCGCUAGCUAGUCauCG'\n",
    "ribozyme_RNA_sequence = 'GGGACGGGCCAUCAUCUAUCCCUGAAGAGACGAAGGCUUCGGCCAAGUCGAAACGGAAACGUCGGAUAGUCGCCCGUCCC'"
   ]
  },
  {
   "cell_type": "markdown",
   "metadata": {},
   "source": [
    "## Creating a Device from these parts"
   ]
  },
  {
   "cell_type": "code",
   "execution_count": 6,
   "metadata": {
    "collapsed": false
   },
   "outputs": [],
   "source": [
    "part_list = ['upstream_context', 'ins1', 'helix1', 'ribozyme', 'helix2', 'ins2', 'downstream_context']\n",
    "sequence_list = [upstream_context, '', '', ribozyme_RNA_sequence, '', '', downstream_context]\n",
    "RNAdevice = pyr.design.RNA.Device(partnamelist=part_list, sequencelist=sequence_list)"
   ]
  },
  {
   "cell_type": "markdown",
   "metadata": {},
   "source": [
    "## Linking a RNA components to the device"
   ]
  },
  {
   "cell_type": "code",
   "execution_count": 7,
   "metadata": {
    "collapsed": false
   },
   "outputs": [],
   "source": [
    "# Note that the addition of helix part requires you to label two parts which it is associated with\n",
    "RNAdevice.add_helix_part(helix1, ('helix1', 'helix2'))\n",
    "RNAdevice.add_unpaired_part(unpaired1, 'ins1')\n",
    "RNAdevice.add_unpaired_part(unpaired2, 'ins2')"
   ]
  },
  {
   "cell_type": "code",
   "execution_count": 8,
   "metadata": {
    "collapsed": false
   },
   "outputs": [
    {
     "data": {
      "text/plain": [
       "{'downstream_context': 'GAGCUUCAGCAGCUACGUGACGUUCGAGUGGGGUCAUGUGGUUGCGUUGUACUCUGACUCUGACUGUCGUCAUCGCUAGCUAGUCAUCG',\n",
       " 'helix1': 'AUCCAUGGUCGAC',\n",
       " 'helix2': 'GUCGACCAUGGAU',\n",
       " 'ins1': 'GUUCCCAGGGGCUUCGUC',\n",
       " 'ins2': 'UCUGGAAGGUUCUACGU',\n",
       " 'ribozyme': 'GGGACGGGCCAUCAUCUAUCCCUGAAGAGACGAAGGCUUCGGCCAAGUCGAAACGGAAACGUCGGAUAGUCGCCCGUCCC',\n",
       " 'upstream_context': 'AGAGCAUCAGACGGGCUGGUCAGACUAUCUAUCUAUCGAUCUGAUCCUACUGUGUACGUGUAGUAUGCAUGACG'}"
      ]
     },
     "execution_count": 8,
     "metadata": {},
     "output_type": "execute_result"
    }
   ],
   "source": [
    "# Now we can easily randomize these parts\n",
    "RNAdevice.randomize_parts()\n",
    "RNAdevice.parttosequence"
   ]
  },
  {
   "cell_type": "code",
   "execution_count": 9,
   "metadata": {
    "collapsed": false
   },
   "outputs": [
    {
     "data": {
      "text/plain": [
       "{'downstream_context': 'GAGCUUCAGCAGCUACGUGACGUUCGAGUGGGGUCAUGUGGUUGCGUUGUACUCUGACUCUGACUGUCGUCAUCGCUAGCUAGUCAUCG',\n",
       " 'helix1': 'AUGCGCAAAAUGC',\n",
       " 'helix2': 'GCAUUUUGCGCAU',\n",
       " 'ins1': 'GUUCCCAGGGGCUUCGUC',\n",
       " 'ins2': 'UCUGGAAGGUUCUACGU',\n",
       " 'ribozyme': 'GGGACGGGCCAUCAUCUAUCCCUGAAGAGACGAAGGCUUCGGCCAAGUCGAAACGGAAACGUCGGAUAGUCGCCCGUCCC',\n",
       " 'upstream_context': 'AGAGCAUCAGACGGGCUGGUCAGACUAUCUAUCUAUCGAUCUGAUCCUACUGUGUACGUGUAGUAUGCAUGACG'}"
      ]
     },
     "execution_count": 9,
     "metadata": {},
     "output_type": "execute_result"
    }
   ],
   "source": [
    "RNAdevice.randomize_parts(list_of_parts=['helix1'])\n",
    "RNAdevice.parttosequence"
   ]
  },
  {
   "cell_type": "code",
   "execution_count": null,
   "metadata": {
    "collapsed": true
   },
   "outputs": [],
   "source": []
  },
  {
   "cell_type": "code",
   "execution_count": null,
   "metadata": {
    "collapsed": true
   },
   "outputs": [],
   "source": []
  },
  {
   "cell_type": "code",
   "execution_count": 10,
   "metadata": {
    "collapsed": false
   },
   "outputs": [
    {
     "data": {
      "text/plain": [
       "['AGAGCAUCAGACGGGCUgGUCAGACUAUCUAUCUAUCgAUCUGAUCCUACUGUGUACgUGUAGUAUGCAUGACG',\n",
       " unpa.GUUCCCAGGGGCUUCGUC,\n",
       " 'AUGCGCAAAAUGC',\n",
       " 'GGGACGGGCCAUCAUCUAUCCCUGAAGAGACGAAGGCUUCGGCCAAGUCGAAACGGAAACGUCGGAUAGUCGCCCGUCCC',\n",
       " 'GCAUUUUGCGCAU',\n",
       " unpa.UCUGGAAGGUUCUACGU,\n",
       " 'GAGCUUCAGCAGCUaCGugACguuCgagugggguCAugUgguUGCguugUACUCUGaCUCUGaCUGUCGUCAUCGCUAGCUAGUCauCG']"
      ]
     },
     "execution_count": 10,
     "metadata": {},
     "output_type": "execute_result"
    }
   ],
   "source": [
    "RNAdevice.sequencelist"
   ]
  },
  {
   "cell_type": "code",
   "execution_count": null,
   "metadata": {
    "collapsed": true
   },
   "outputs": [],
   "source": []
  },
  {
   "cell_type": "markdown",
   "metadata": {},
   "source": [
    "## Precisely changing RNA part sequences"
   ]
  },
  {
   "cell_type": "code",
   "execution_count": 11,
   "metadata": {
    "collapsed": false
   },
   "outputs": [
    {
     "data": {
      "text/plain": [
       "{'downstream_context': 'GAGCUUCAGCAGCUACGUGACGUUCGAGUGGGGUCAUGUGGUUGCGUUGUACUCUGACUCUGACUGUCGUCAUCGCUAGCUAGUCAUCG',\n",
       " 'helix1': 'AUGCGCAAAAUGC',\n",
       " 'helix2': 'GCAUUUUGCGCAU',\n",
       " 'ins1': 'GUUCCCAGGGGCUUCGUC',\n",
       " 'ins2': 'UCUGGAAGGUUCUACGU',\n",
       " 'ribozyme': 'GGGACGGGCCAUCAUCUAUCCCUGAAGAGACGAAGGCUUCGGCCAAGUCGAAACGGAAACGUCGGAUAGUCGCCCGUCCC',\n",
       " 'upstream_context': 'ACGAUCGAUGCGCGGCGGCGUAUGCUGUAGCGUAUGCGAUGCA'}"
      ]
     },
     "execution_count": 11,
     "metadata": {},
     "output_type": "execute_result"
    }
   ],
   "source": [
    "RNAdevice.change_part_sequence('upstream_context', 'ACGAUCGAUGCGCGGCGGCGUAUGCUGUAGCGUAUGCGAUGCA')\n",
    "RNAdevice.parttosequence"
   ]
  },
  {
   "cell_type": "markdown",
   "metadata": {},
   "source": [
    "## Collecting the sequence of a specific part"
   ]
  },
  {
   "cell_type": "code",
   "execution_count": 12,
   "metadata": {
    "collapsed": false
   },
   "outputs": [
    {
     "data": {
      "text/plain": [
       "'GAGCUUCAGCAGCUACGUGACGUUCGAGUGGGGUCAUGUGGUUGCGUUGUACUCUGACUCUGACUGUCGUCAUCGCUAGCUAGUCAUCG'"
      ]
     },
     "execution_count": 12,
     "metadata": {},
     "output_type": "execute_result"
    }
   ],
   "source": [
    "RNAdevice.part_sequence('downstream_context')"
   ]
  },
  {
   "cell_type": "markdown",
   "metadata": {},
   "source": [
    "## Extracting the entire sequence"
   ]
  },
  {
   "cell_type": "code",
   "execution_count": 13,
   "metadata": {
    "collapsed": false
   },
   "outputs": [
    {
     "data": {
      "text/plain": [
       "'ACGAUCGAUGCGCGGCGGCGUAUGCUGUAGCGUAUGCGAUGCAGUUCCCAGGGGCUUCGUCAUGCGCAAAAUGCGGGACGGGCCAUCAUCUAUCCCUGAAGAGACGAAGGCUUCGGCCAAGUCGAAACGGAAACGUCGGAUAGUCGCCCGUCCCGCAUUUUGCGCAUUCUGGAAGGUUCUACGUGAGCUUCAGCAGCUACGUGACGUUCGAGUGGGGUCAUGUGGUUGCGUUGUACUCUGACUCUGACUGUCGUCAUCGCUAGCUAGUCAUCG'"
      ]
     },
     "execution_count": 13,
     "metadata": {},
     "output_type": "execute_result"
    }
   ],
   "source": [
    "str(RNAdevice)"
   ]
  },
  {
   "cell_type": "code",
   "execution_count": 14,
   "metadata": {
    "collapsed": false
   },
   "outputs": [
    {
     "data": {
      "text/plain": [
       "'ACGAUCGAUGCGCGGCGGCGUAUGCUGUAGCGUAUGCGAUGCAGUUCCCAGGGGCUUCGUCAUGCGCAAAAUGCGGGACGGGCCAUCAUCUAUCCCUGAAGAGACGAAGGCUUCGGCCAAGUCGAAACGGAAACGUCGGAUAGUCGCCCGUCCCGCAUUUUGCGCAUUCUGGAAGGUUCUACGUGAGCUUCAGCAGCUaCGugACguuCgagugggguCAugUgguUGCguugUACUCUGaCUCUGaCUGUCGUCAUCGCUAGCUAGUCauCG'"
      ]
     },
     "execution_count": 14,
     "metadata": {},
     "output_type": "execute_result"
    }
   ],
   "source": [
    "RNAdevice.sequence"
   ]
  },
  {
   "cell_type": "markdown",
   "metadata": {},
   "source": [
    "# Creating a submission for this device"
   ]
  },
  {
   "cell_type": "code",
   "execution_count": 17,
   "metadata": {
    "collapsed": false
   },
   "outputs": [],
   "source": [
    "# We want to keep track of this data, both for submitting folding information \n",
    "#\n",
    "\n",
    "submission_list = []\n",
    "detailed_part_information_list = []\n",
    "name_list = []\n",
    "\n",
    "for i in range(30):\n",
    "    name = 'test' + str(i)\n",
    "    RNAdevice.randomize_parts()\n",
    "    detailed_part_information_list.append(RNAdevice.return_parts_sequences())\n",
    "    name_list.append(name)\n",
    "    submission_list.append(RNAdevice.create_kinefold_submission_object(device_name=name,\n",
    "                                                partstofold=['ribozyme'], fiveprimeshift=False, \n",
    "                                                fiveprimerefpart=None, threeprimeshift=False, \n",
    "                                                threeprimerefpart=None, polrate=30, foldtimeafter=1, \n",
    "                                                experimenttype=2, pseudoknots=0, entanglements=0, \n",
    "                                                numberofsimulations=10, helix_min_free_engery=6.3460741))"
   ]
  },
  {
   "cell_type": "markdown",
   "metadata": {},
   "source": [
    "## writing the submission file for this submission"
   ]
  },
  {
   "cell_type": "code",
   "execution_count": 18,
   "metadata": {
    "collapsed": false
   },
   "outputs": [],
   "source": [
    "pyr.pyrfile.filled_in_kinefold_form(filename='test_sub', list_of_sub_objects=submission_list)"
   ]
  },
  {
   "cell_type": "markdown",
   "metadata": {},
   "source": [
    "## Creating a basic summary of these experiments"
   ]
  },
  {
   "cell_type": "code",
   "execution_count": 19,
   "metadata": {
    "collapsed": false
   },
   "outputs": [],
   "source": [
    "part_information_df_special = pyr.utilities.create_dataframe_of_part_information(part_information_list=detailed_part_information_list, \n",
    "                                                   name_list=name_list)"
   ]
  },
  {
   "cell_type": "code",
   "execution_count": 20,
   "metadata": {
    "collapsed": false
   },
   "outputs": [],
   "source": [
    "part_information_df = pyr.utilities.create_dataframe_of_submission(submission_list)"
   ]
  },
  {
   "cell_type": "markdown",
   "metadata": {},
   "source": [
    "All of these file types are pandas DataFrames which can easily be saved as either pickled python objects. Or written as .csv files for later import. Using this method the names of the devices will be exactly the same as the files of data that are generated when analyzing device folding"
   ]
  },
  {
   "cell_type": "code",
   "execution_count": 25,
   "metadata": {
    "collapsed": false
   },
   "outputs": [],
   "source": [
    "part_information_df_special.to_csv('example_outputs/special_csv_out.csv')"
   ]
  },
  {
   "cell_type": "markdown",
   "metadata": {},
   "source": [
    "## These can be reimported using Pandas"
   ]
  },
  {
   "cell_type": "code",
   "execution_count": 26,
   "metadata": {
    "collapsed": false
   },
   "outputs": [],
   "source": [
    "import pandas as pd\n",
    "with open('example_outputs/special_csv_out.csv') as tempdf:\n",
    "    new_thing = pd.DataFrame.from_csv(tempdf)"
   ]
  },
  {
   "cell_type": "code",
   "execution_count": 27,
   "metadata": {
    "collapsed": false
   },
   "outputs": [
    {
     "data": {
      "text/html": [
       "<div>\n",
       "<table border=\"1\" class=\"dataframe\">\n",
       "  <thead>\n",
       "    <tr style=\"text-align: right;\">\n",
       "      <th></th>\n",
       "      <th>upstream_context</th>\n",
       "      <th>ins1</th>\n",
       "      <th>helix1</th>\n",
       "      <th>ribozyme</th>\n",
       "      <th>helix2</th>\n",
       "      <th>ins2</th>\n",
       "      <th>downstream_context</th>\n",
       "    </tr>\n",
       "  </thead>\n",
       "  <tbody>\n",
       "    <tr>\n",
       "      <th>test0</th>\n",
       "      <td>ACGAUCGAUGCGCGGCGGCGUAUGCUGUAGCGUAUGCGAUGCA</td>\n",
       "      <td>CGAACAGAUUUGCAAGCCACCUGUGGUGC</td>\n",
       "      <td>UCCUAAAGGC</td>\n",
       "      <td>GGGACGGGCCAUCAUCUAUCCCUGAAGAGACGAAGGCUUCGGCCAA...</td>\n",
       "      <td>GCCUUUAGGA</td>\n",
       "      <td>GCACUGCCCACUCUAACAU</td>\n",
       "      <td>GAGCUUCAGCAGCUaCGugACguuCgagugggguCAugUgguUGCg...</td>\n",
       "    </tr>\n",
       "    <tr>\n",
       "      <th>test1</th>\n",
       "      <td>ACGAUCGAUGCGCGGCGGCGUAUGCUGUAGCGUAUGCGAUGCA</td>\n",
       "      <td>CCCUACUUGCUAGGAGUCUG</td>\n",
       "      <td>GUCACACCUUCG</td>\n",
       "      <td>GGGACGGGCCAUCAUCUAUCCCUGAAGAGACGAAGGCUUCGGCCAA...</td>\n",
       "      <td>CGAAGGUGUGAC</td>\n",
       "      <td>GAUUAGAUUAUACCGUCAGG</td>\n",
       "      <td>GAGCUUCAGCAGCUaCGugACguuCgagugggguCAugUgguUGCg...</td>\n",
       "    </tr>\n",
       "    <tr>\n",
       "      <th>test2</th>\n",
       "      <td>ACGAUCGAUGCGCGGCGGCGUAUGCUGUAGCGUAUGCGAUGCA</td>\n",
       "      <td>AGCCAUUAUACGCCGUGUGUGAU</td>\n",
       "      <td>ACGUAUUUUA</td>\n",
       "      <td>GGGACGGGCCAUCAUCUAUCCCUGAAGAGACGAAGGCUUCGGCCAA...</td>\n",
       "      <td>UAAAAUACGU</td>\n",
       "      <td>UUCACAUGGAGUGACUCGGUUUAAUCGUCA</td>\n",
       "      <td>GAGCUUCAGCAGCUaCGugACguuCgagugggguCAugUgguUGCg...</td>\n",
       "    </tr>\n",
       "    <tr>\n",
       "      <th>test3</th>\n",
       "      <td>ACGAUCGAUGCGCGGCGGCGUAUGCUGUAGCGUAUGCGAUGCA</td>\n",
       "      <td>GACCACGUGUGCGUUGUCUG</td>\n",
       "      <td>CUCCGGACCG</td>\n",
       "      <td>GGGACGGGCCAUCAUCUAUCCCUGAAGAGACGAAGGCUUCGGCCAA...</td>\n",
       "      <td>CGGUCCGGAG</td>\n",
       "      <td>UCUCAAUGAAGAGAACCU</td>\n",
       "      <td>GAGCUUCAGCAGCUaCGugACguuCgagugggguCAugUgguUGCg...</td>\n",
       "    </tr>\n",
       "    <tr>\n",
       "      <th>test4</th>\n",
       "      <td>ACGAUCGAUGCGCGGCGGCGUAUGCUGUAGCGUAUGCGAUGCA</td>\n",
       "      <td>AACUCCAUCACCGUGCCGU</td>\n",
       "      <td>GUAUUUAGCUGAUG</td>\n",
       "      <td>GGGACGGGCCAUCAUCUAUCCCUGAAGAGACGAAGGCUUCGGCCAA...</td>\n",
       "      <td>CAUCAGCUAAAUAC</td>\n",
       "      <td>AACGCGCCGGGUUCGGCAC</td>\n",
       "      <td>GAGCUUCAGCAGCUaCGugACguuCgagugggguCAugUgguUGCg...</td>\n",
       "    </tr>\n",
       "    <tr>\n",
       "      <th>test5</th>\n",
       "      <td>ACGAUCGAUGCGCGGCGGCGUAUGCUGUAGCGUAUGCGAUGCA</td>\n",
       "      <td>UCUCGUGCCCGCCAACAU</td>\n",
       "      <td>AAGGAUGCCGCCG</td>\n",
       "      <td>GGGACGGGCCAUCAUCUAUCCCUGAAGAGACGAAGGCUUCGGCCAA...</td>\n",
       "      <td>CGGCGGCAUCCUU</td>\n",
       "      <td>GCCUUCCCAUGCAUCCAGAG</td>\n",
       "      <td>GAGCUUCAGCAGCUaCGugACguuCgagugggguCAugUgguUGCg...</td>\n",
       "    </tr>\n",
       "    <tr>\n",
       "      <th>test6</th>\n",
       "      <td>ACGAUCGAUGCGCGGCGGCGUAUGCUGUAGCGUAUGCGAUGCA</td>\n",
       "      <td>UCGGCUGAUUUGGACG</td>\n",
       "      <td>GUCCCGAAGA</td>\n",
       "      <td>GGGACGGGCCAUCAUCUAUCCCUGAAGAGACGAAGGCUUCGGCCAA...</td>\n",
       "      <td>UCUUCGGGAC</td>\n",
       "      <td>AAUUCGGCGGUGGAUGCGGCUA</td>\n",
       "      <td>GAGCUUCAGCAGCUaCGugACguuCgagugggguCAugUgguUGCg...</td>\n",
       "    </tr>\n",
       "    <tr>\n",
       "      <th>test7</th>\n",
       "      <td>ACGAUCGAUGCGCGGCGGCGUAUGCUGUAGCGUAUGCGAUGCA</td>\n",
       "      <td>AUAUACACGAGAUGCAACCGUAUUC</td>\n",
       "      <td>UUUAUACUUGUG</td>\n",
       "      <td>GGGACGGGCCAUCAUCUAUCCCUGAAGAGACGAAGGCUUCGGCCAA...</td>\n",
       "      <td>CACAAGUAUAAA</td>\n",
       "      <td>AAGCCACCAAAACUGUCAUGUGCACUGA</td>\n",
       "      <td>GAGCUUCAGCAGCUaCGugACguuCgagugggguCAugUgguUGCg...</td>\n",
       "    </tr>\n",
       "    <tr>\n",
       "      <th>test8</th>\n",
       "      <td>ACGAUCGAUGCGCGGCGGCGUAUGCUGUAGCGUAUGCGAUGCA</td>\n",
       "      <td>UCUUUGGCGUAGAGGAGUU</td>\n",
       "      <td>AGCGCCGCUCCCG</td>\n",
       "      <td>GGGACGGGCCAUCAUCUAUCCCUGAAGAGACGAAGGCUUCGGCCAA...</td>\n",
       "      <td>CGGGAGCGGCGCU</td>\n",
       "      <td>ACGUCAUACGUAUCGUGAUCA</td>\n",
       "      <td>GAGCUUCAGCAGCUaCGugACguuCgagugggguCAugUgguUGCg...</td>\n",
       "    </tr>\n",
       "    <tr>\n",
       "      <th>test9</th>\n",
       "      <td>ACGAUCGAUGCGCGGCGGCGUAUGCUGUAGCGUAUGCGAUGCA</td>\n",
       "      <td>GUAGCAGCGACAACUGGGCUCGGCAGACA</td>\n",
       "      <td>GCUGCGUACC</td>\n",
       "      <td>GGGACGGGCCAUCAUCUAUCCCUGAAGAGACGAAGGCUUCGGCCAA...</td>\n",
       "      <td>GGUACGCAGC</td>\n",
       "      <td>GUCGUGAUGGACUGACACGU</td>\n",
       "      <td>GAGCUUCAGCAGCUaCGugACguuCgagugggguCAugUgguUGCg...</td>\n",
       "    </tr>\n",
       "    <tr>\n",
       "      <th>test10</th>\n",
       "      <td>ACGAUCGAUGCGCGGCGGCGUAUGCUGUAGCGUAUGCGAUGCA</td>\n",
       "      <td>GGCGUGAAGUACGACCGGAGG</td>\n",
       "      <td>UCAGAUCGUUU</td>\n",
       "      <td>GGGACGGGCCAUCAUCUAUCCCUGAAGAGACGAAGGCUUCGGCCAA...</td>\n",
       "      <td>AAACGAUCUGA</td>\n",
       "      <td>GACCCGUAAAUAGUCUUCAUGACCU</td>\n",
       "      <td>GAGCUUCAGCAGCUaCGugACguuCgagugggguCAugUgguUGCg...</td>\n",
       "    </tr>\n",
       "    <tr>\n",
       "      <th>test11</th>\n",
       "      <td>ACGAUCGAUGCGCGGCGGCGUAUGCUGUAGCGUAUGCGAUGCA</td>\n",
       "      <td>GUCGAGAUGGAAUUUUUAGUUGCUCCGAC</td>\n",
       "      <td>AUCAGGCACUAUGG</td>\n",
       "      <td>GGGACGGGCCAUCAUCUAUCCCUGAAGAGACGAAGGCUUCGGCCAA...</td>\n",
       "      <td>CCAUAGUGCCUGAU</td>\n",
       "      <td>AAGUACACAUUGCUAAGCGU</td>\n",
       "      <td>GAGCUUCAGCAGCUaCGugACguuCgagugggguCAugUgguUGCg...</td>\n",
       "    </tr>\n",
       "    <tr>\n",
       "      <th>test12</th>\n",
       "      <td>ACGAUCGAUGCGCGGCGGCGUAUGCUGUAGCGUAUGCGAUGCA</td>\n",
       "      <td>CAAGAGCACACCCCUAGACUGGUA</td>\n",
       "      <td>UGUCCAAUGACAUCG</td>\n",
       "      <td>GGGACGGGCCAUCAUCUAUCCCUGAAGAGACGAAGGCUUCGGCCAA...</td>\n",
       "      <td>CGAUGUCAUUGGACA</td>\n",
       "      <td>CUUUACUGUCUUGCUUUCAGGAA</td>\n",
       "      <td>GAGCUUCAGCAGCUaCGugACguuCgagugggguCAugUgguUGCg...</td>\n",
       "    </tr>\n",
       "    <tr>\n",
       "      <th>test13</th>\n",
       "      <td>ACGAUCGAUGCGCGGCGGCGUAUGCUGUAGCGUAUGCGAUGCA</td>\n",
       "      <td>ACAGGUUGCCCACAUGG</td>\n",
       "      <td>GGCUAUAGGCCC</td>\n",
       "      <td>GGGACGGGCCAUCAUCUAUCCCUGAAGAGACGAAGGCUUCGGCCAA...</td>\n",
       "      <td>GGGCCUAUAGCC</td>\n",
       "      <td>AAUUGGGCGGAUUCACAUUAGAUGUACUAA</td>\n",
       "      <td>GAGCUUCAGCAGCUaCGugACguuCgagugggguCAugUgguUGCg...</td>\n",
       "    </tr>\n",
       "    <tr>\n",
       "      <th>test14</th>\n",
       "      <td>ACGAUCGAUGCGCGGCGGCGUAUGCUGUAGCGUAUGCGAUGCA</td>\n",
       "      <td>AAGCAUGAACCUUCGGUGAGCGCCCUUGAA</td>\n",
       "      <td>CGACUAUUGUA</td>\n",
       "      <td>GGGACGGGCCAUCAUCUAUCCCUGAAGAGACGAAGGCUUCGGCCAA...</td>\n",
       "      <td>UACAAUAGUCG</td>\n",
       "      <td>CGAGACGGCUUUAUAGCAGAAUUACUA</td>\n",
       "      <td>GAGCUUCAGCAGCUaCGugACguuCgagugggguCAugUgguUGCg...</td>\n",
       "    </tr>\n",
       "    <tr>\n",
       "      <th>test15</th>\n",
       "      <td>ACGAUCGAUGCGCGGCGGCGUAUGCUGUAGCGUAUGCGAUGCA</td>\n",
       "      <td>GCGGUUUCGCGCACCUAUC</td>\n",
       "      <td>UCAGCUCGCCAA</td>\n",
       "      <td>GGGACGGGCCAUCAUCUAUCCCUGAAGAGACGAAGGCUUCGGCCAA...</td>\n",
       "      <td>UUGGCGAGCUGA</td>\n",
       "      <td>CGGUUGUCGCCCUUACUGGUAAGCCUC</td>\n",
       "      <td>GAGCUUCAGCAGCUaCGugACguuCgagugggguCAugUgguUGCg...</td>\n",
       "    </tr>\n",
       "    <tr>\n",
       "      <th>test16</th>\n",
       "      <td>ACGAUCGAUGCGCGGCGGCGUAUGCUGUAGCGUAUGCGAUGCA</td>\n",
       "      <td>CUCUUAGGGAGCGAUUA</td>\n",
       "      <td>CCCAGUACAUACA</td>\n",
       "      <td>GGGACGGGCCAUCAUCUAUCCCUGAAGAGACGAAGGCUUCGGCCAA...</td>\n",
       "      <td>UGUAUGUACUGGG</td>\n",
       "      <td>GCACAUGGGAACUCUGAAC</td>\n",
       "      <td>GAGCUUCAGCAGCUaCGugACguuCgagugggguCAugUgguUGCg...</td>\n",
       "    </tr>\n",
       "    <tr>\n",
       "      <th>test17</th>\n",
       "      <td>ACGAUCGAUGCGCGGCGGCGUAUGCUGUAGCGUAUGCGAUGCA</td>\n",
       "      <td>CAAGUACAUUCCGUCUGAAU</td>\n",
       "      <td>UAUUUAUUGAG</td>\n",
       "      <td>GGGACGGGCCAUCAUCUAUCCCUGAAGAGACGAAGGCUUCGGCCAA...</td>\n",
       "      <td>CUCAAUAAAUA</td>\n",
       "      <td>ACAUCAAGCAUGGAUUUCGGUCGGUCU</td>\n",
       "      <td>GAGCUUCAGCAGCUaCGugACguuCgagugggguCAugUgguUGCg...</td>\n",
       "    </tr>\n",
       "    <tr>\n",
       "      <th>test18</th>\n",
       "      <td>ACGAUCGAUGCGCGGCGGCGUAUGCUGUAGCGUAUGCGAUGCA</td>\n",
       "      <td>GUCUUACGGAAAGUGACUGGUGGUA</td>\n",
       "      <td>CGGGUGGCGU</td>\n",
       "      <td>GGGACGGGCCAUCAUCUAUCCCUGAAGAGACGAAGGCUUCGGCCAA...</td>\n",
       "      <td>ACGCCACCCG</td>\n",
       "      <td>GCAACAAGCUGUACCGCGCCUGAGUUAGA</td>\n",
       "      <td>GAGCUUCAGCAGCUaCGugACguuCgagugggguCAugUgguUGCg...</td>\n",
       "    </tr>\n",
       "    <tr>\n",
       "      <th>test19</th>\n",
       "      <td>ACGAUCGAUGCGCGGCGGCGUAUGCUGUAGCGUAUGCGAUGCA</td>\n",
       "      <td>GACUGUCACACUUAGAACACGACAGUUUAG</td>\n",
       "      <td>GUUUGAACUCUUAA</td>\n",
       "      <td>GGGACGGGCCAUCAUCUAUCCCUGAAGAGACGAAGGCUUCGGCCAA...</td>\n",
       "      <td>UUAAGAGUUCAAAC</td>\n",
       "      <td>CCACCACAAGCACGGAAAG</td>\n",
       "      <td>GAGCUUCAGCAGCUaCGugACguuCgagugggguCAugUgguUGCg...</td>\n",
       "    </tr>\n",
       "    <tr>\n",
       "      <th>test20</th>\n",
       "      <td>ACGAUCGAUGCGCGGCGGCGUAUGCUGUAGCGUAUGCGAUGCA</td>\n",
       "      <td>UCCGCGUCCGAUCGUAGGAAUGCAU</td>\n",
       "      <td>GUUGUGACCCCA</td>\n",
       "      <td>GGGACGGGCCAUCAUCUAUCCCUGAAGAGACGAAGGCUUCGGCCAA...</td>\n",
       "      <td>UGGGGUCACAAC</td>\n",
       "      <td>AGUUCGAUUUGUGAAC</td>\n",
       "      <td>GAGCUUCAGCAGCUaCGugACguuCgagugggguCAugUgguUGCg...</td>\n",
       "    </tr>\n",
       "    <tr>\n",
       "      <th>test21</th>\n",
       "      <td>ACGAUCGAUGCGCGGCGGCGUAUGCUGUAGCGUAUGCGAUGCA</td>\n",
       "      <td>CUUCCCUACUAAGAGUGGGCUUACACCCC</td>\n",
       "      <td>AUCAAUCGCG</td>\n",
       "      <td>GGGACGGGCCAUCAUCUAUCCCUGAAGAGACGAAGGCUUCGGCCAA...</td>\n",
       "      <td>CGCGAUUGAU</td>\n",
       "      <td>ACGGGAUAUUCCAAAUUGAUGGGAUCAU</td>\n",
       "      <td>GAGCUUCAGCAGCUaCGugACguuCgagugggguCAugUgguUGCg...</td>\n",
       "    </tr>\n",
       "    <tr>\n",
       "      <th>test22</th>\n",
       "      <td>ACGAUCGAUGCGCGGCGGCGUAUGCUGUAGCGUAUGCGAUGCA</td>\n",
       "      <td>GCGGUUCAGUGCCAACCUGUAGC</td>\n",
       "      <td>AUUGCACGGUGAG</td>\n",
       "      <td>GGGACGGGCCAUCAUCUAUCCCUGAAGAGACGAAGGCUUCGGCCAA...</td>\n",
       "      <td>CUCACCGUGCAAU</td>\n",
       "      <td>UGCUGGGUAAUACGUUGAA</td>\n",
       "      <td>GAGCUUCAGCAGCUaCGugACguuCgagugggguCAugUgguUGCg...</td>\n",
       "    </tr>\n",
       "    <tr>\n",
       "      <th>test23</th>\n",
       "      <td>ACGAUCGAUGCGCGGCGGCGUAUGCUGUAGCGUAUGCGAUGCA</td>\n",
       "      <td>CUACAGCAAUCCUUUGAGAG</td>\n",
       "      <td>AUCUUAGCCGCUAC</td>\n",
       "      <td>GGGACGGGCCAUCAUCUAUCCCUGAAGAGACGAAGGCUUCGGCCAA...</td>\n",
       "      <td>GUAGCGGCUAAGAU</td>\n",
       "      <td>CGGAGUUCACGGAACGAUUUCGA</td>\n",
       "      <td>GAGCUUCAGCAGCUaCGugACguuCgagugggguCAugUgguUGCg...</td>\n",
       "    </tr>\n",
       "    <tr>\n",
       "      <th>test24</th>\n",
       "      <td>ACGAUCGAUGCGCGGCGGCGUAUGCUGUAGCGUAUGCGAUGCA</td>\n",
       "      <td>UCCCUACGAGCCAGCACGCUGAAAACAUA</td>\n",
       "      <td>ACGGCAAUUCGCU</td>\n",
       "      <td>GGGACGGGCCAUCAUCUAUCCCUGAAGAGACGAAGGCUUCGGCCAA...</td>\n",
       "      <td>AGCGAAUUGCCGU</td>\n",
       "      <td>AUAUGAGACAAACGCGCUACGGUGGGA</td>\n",
       "      <td>GAGCUUCAGCAGCUaCGugACguuCgagugggguCAugUgguUGCg...</td>\n",
       "    </tr>\n",
       "    <tr>\n",
       "      <th>test25</th>\n",
       "      <td>ACGAUCGAUGCGCGGCGGCGUAUGCUGUAGCGUAUGCGAUGCA</td>\n",
       "      <td>UUGAAGAGGAGCAGAAACGGUUCUGAUU</td>\n",
       "      <td>UGGCAUCUCCAACA</td>\n",
       "      <td>GGGACGGGCCAUCAUCUAUCCCUGAAGAGACGAAGGCUUCGGCCAA...</td>\n",
       "      <td>UGUUGGAGAUGCCA</td>\n",
       "      <td>GGAGCGCGCGUCCGG</td>\n",
       "      <td>GAGCUUCAGCAGCUaCGugACguuCgagugggguCAugUgguUGCg...</td>\n",
       "    </tr>\n",
       "    <tr>\n",
       "      <th>test26</th>\n",
       "      <td>ACGAUCGAUGCGCGGCGGCGUAUGCUGUAGCGUAUGCGAUGCA</td>\n",
       "      <td>CGCAUUAAAUACUAUCCAAGUGGAGUCGU</td>\n",
       "      <td>CUAGGUGCUU</td>\n",
       "      <td>GGGACGGGCCAUCAUCUAUCCCUGAAGAGACGAAGGCUUCGGCCAA...</td>\n",
       "      <td>AAGCACCUAG</td>\n",
       "      <td>UCCGUGAUAAGUAAGGUCUUUCUGUUAGG</td>\n",
       "      <td>GAGCUUCAGCAGCUaCGugACguuCgagugggguCAugUgguUGCg...</td>\n",
       "    </tr>\n",
       "    <tr>\n",
       "      <th>test27</th>\n",
       "      <td>ACGAUCGAUGCGCGGCGGCGUAUGCUGUAGCGUAUGCGAUGCA</td>\n",
       "      <td>UACGACGGUCUGUGAAUGAUAAGGA</td>\n",
       "      <td>AGGCAGAGGGCGAU</td>\n",
       "      <td>GGGACGGGCCAUCAUCUAUCCCUGAAGAGACGAAGGCUUCGGCCAA...</td>\n",
       "      <td>AUCGCCCUCUGCCU</td>\n",
       "      <td>UGGAAACCGUUGCAGUAGCACCUUAC</td>\n",
       "      <td>GAGCUUCAGCAGCUaCGugACguuCgagugggguCAugUgguUGCg...</td>\n",
       "    </tr>\n",
       "    <tr>\n",
       "      <th>test28</th>\n",
       "      <td>ACGAUCGAUGCGCGGCGGCGUAUGCUGUAGCGUAUGCGAUGCA</td>\n",
       "      <td>GACGCUUACAAGUCCGC</td>\n",
       "      <td>AGGUACUGAAAGAU</td>\n",
       "      <td>GGGACGGGCCAUCAUCUAUCCCUGAAGAGACGAAGGCUUCGGCCAA...</td>\n",
       "      <td>AUCUUUCAGUACCU</td>\n",
       "      <td>AUAAAACGUUGAGAAGUUCCACAAACC</td>\n",
       "      <td>GAGCUUCAGCAGCUaCGugACguuCgagugggguCAugUgguUGCg...</td>\n",
       "    </tr>\n",
       "    <tr>\n",
       "      <th>test29</th>\n",
       "      <td>ACGAUCGAUGCGCGGCGGCGUAUGCUGUAGCGUAUGCGAUGCA</td>\n",
       "      <td>GAUGAAUUGCGUCACGGUCGGU</td>\n",
       "      <td>AUAUAUAGGCAAA</td>\n",
       "      <td>GGGACGGGCCAUCAUCUAUCCCUGAAGAGACGAAGGCUUCGGCCAA...</td>\n",
       "      <td>UUUGCCUAUAUAU</td>\n",
       "      <td>CCAAAUGAACUGUAAGCCGCGUAAA</td>\n",
       "      <td>GAGCUUCAGCAGCUaCGugACguuCgagugggguCAugUgguUGCg...</td>\n",
       "    </tr>\n",
       "  </tbody>\n",
       "</table>\n",
       "</div>"
      ],
      "text/plain": [
       "                                   upstream_context  \\\n",
       "test0   ACGAUCGAUGCGCGGCGGCGUAUGCUGUAGCGUAUGCGAUGCA   \n",
       "test1   ACGAUCGAUGCGCGGCGGCGUAUGCUGUAGCGUAUGCGAUGCA   \n",
       "test2   ACGAUCGAUGCGCGGCGGCGUAUGCUGUAGCGUAUGCGAUGCA   \n",
       "test3   ACGAUCGAUGCGCGGCGGCGUAUGCUGUAGCGUAUGCGAUGCA   \n",
       "test4   ACGAUCGAUGCGCGGCGGCGUAUGCUGUAGCGUAUGCGAUGCA   \n",
       "test5   ACGAUCGAUGCGCGGCGGCGUAUGCUGUAGCGUAUGCGAUGCA   \n",
       "test6   ACGAUCGAUGCGCGGCGGCGUAUGCUGUAGCGUAUGCGAUGCA   \n",
       "test7   ACGAUCGAUGCGCGGCGGCGUAUGCUGUAGCGUAUGCGAUGCA   \n",
       "test8   ACGAUCGAUGCGCGGCGGCGUAUGCUGUAGCGUAUGCGAUGCA   \n",
       "test9   ACGAUCGAUGCGCGGCGGCGUAUGCUGUAGCGUAUGCGAUGCA   \n",
       "test10  ACGAUCGAUGCGCGGCGGCGUAUGCUGUAGCGUAUGCGAUGCA   \n",
       "test11  ACGAUCGAUGCGCGGCGGCGUAUGCUGUAGCGUAUGCGAUGCA   \n",
       "test12  ACGAUCGAUGCGCGGCGGCGUAUGCUGUAGCGUAUGCGAUGCA   \n",
       "test13  ACGAUCGAUGCGCGGCGGCGUAUGCUGUAGCGUAUGCGAUGCA   \n",
       "test14  ACGAUCGAUGCGCGGCGGCGUAUGCUGUAGCGUAUGCGAUGCA   \n",
       "test15  ACGAUCGAUGCGCGGCGGCGUAUGCUGUAGCGUAUGCGAUGCA   \n",
       "test16  ACGAUCGAUGCGCGGCGGCGUAUGCUGUAGCGUAUGCGAUGCA   \n",
       "test17  ACGAUCGAUGCGCGGCGGCGUAUGCUGUAGCGUAUGCGAUGCA   \n",
       "test18  ACGAUCGAUGCGCGGCGGCGUAUGCUGUAGCGUAUGCGAUGCA   \n",
       "test19  ACGAUCGAUGCGCGGCGGCGUAUGCUGUAGCGUAUGCGAUGCA   \n",
       "test20  ACGAUCGAUGCGCGGCGGCGUAUGCUGUAGCGUAUGCGAUGCA   \n",
       "test21  ACGAUCGAUGCGCGGCGGCGUAUGCUGUAGCGUAUGCGAUGCA   \n",
       "test22  ACGAUCGAUGCGCGGCGGCGUAUGCUGUAGCGUAUGCGAUGCA   \n",
       "test23  ACGAUCGAUGCGCGGCGGCGUAUGCUGUAGCGUAUGCGAUGCA   \n",
       "test24  ACGAUCGAUGCGCGGCGGCGUAUGCUGUAGCGUAUGCGAUGCA   \n",
       "test25  ACGAUCGAUGCGCGGCGGCGUAUGCUGUAGCGUAUGCGAUGCA   \n",
       "test26  ACGAUCGAUGCGCGGCGGCGUAUGCUGUAGCGUAUGCGAUGCA   \n",
       "test27  ACGAUCGAUGCGCGGCGGCGUAUGCUGUAGCGUAUGCGAUGCA   \n",
       "test28  ACGAUCGAUGCGCGGCGGCGUAUGCUGUAGCGUAUGCGAUGCA   \n",
       "test29  ACGAUCGAUGCGCGGCGGCGUAUGCUGUAGCGUAUGCGAUGCA   \n",
       "\n",
       "                                  ins1           helix1  \\\n",
       "test0    CGAACAGAUUUGCAAGCCACCUGUGGUGC       UCCUAAAGGC   \n",
       "test1             CCCUACUUGCUAGGAGUCUG     GUCACACCUUCG   \n",
       "test2          AGCCAUUAUACGCCGUGUGUGAU       ACGUAUUUUA   \n",
       "test3             GACCACGUGUGCGUUGUCUG       CUCCGGACCG   \n",
       "test4              AACUCCAUCACCGUGCCGU   GUAUUUAGCUGAUG   \n",
       "test5               UCUCGUGCCCGCCAACAU    AAGGAUGCCGCCG   \n",
       "test6                 UCGGCUGAUUUGGACG       GUCCCGAAGA   \n",
       "test7        AUAUACACGAGAUGCAACCGUAUUC     UUUAUACUUGUG   \n",
       "test8              UCUUUGGCGUAGAGGAGUU    AGCGCCGCUCCCG   \n",
       "test9    GUAGCAGCGACAACUGGGCUCGGCAGACA       GCUGCGUACC   \n",
       "test10           GGCGUGAAGUACGACCGGAGG      UCAGAUCGUUU   \n",
       "test11   GUCGAGAUGGAAUUUUUAGUUGCUCCGAC   AUCAGGCACUAUGG   \n",
       "test12        CAAGAGCACACCCCUAGACUGGUA  UGUCCAAUGACAUCG   \n",
       "test13               ACAGGUUGCCCACAUGG     GGCUAUAGGCCC   \n",
       "test14  AAGCAUGAACCUUCGGUGAGCGCCCUUGAA      CGACUAUUGUA   \n",
       "test15             GCGGUUUCGCGCACCUAUC     UCAGCUCGCCAA   \n",
       "test16               CUCUUAGGGAGCGAUUA    CCCAGUACAUACA   \n",
       "test17            CAAGUACAUUCCGUCUGAAU      UAUUUAUUGAG   \n",
       "test18       GUCUUACGGAAAGUGACUGGUGGUA       CGGGUGGCGU   \n",
       "test19  GACUGUCACACUUAGAACACGACAGUUUAG   GUUUGAACUCUUAA   \n",
       "test20       UCCGCGUCCGAUCGUAGGAAUGCAU     GUUGUGACCCCA   \n",
       "test21   CUUCCCUACUAAGAGUGGGCUUACACCCC       AUCAAUCGCG   \n",
       "test22         GCGGUUCAGUGCCAACCUGUAGC    AUUGCACGGUGAG   \n",
       "test23            CUACAGCAAUCCUUUGAGAG   AUCUUAGCCGCUAC   \n",
       "test24   UCCCUACGAGCCAGCACGCUGAAAACAUA    ACGGCAAUUCGCU   \n",
       "test25    UUGAAGAGGAGCAGAAACGGUUCUGAUU   UGGCAUCUCCAACA   \n",
       "test26   CGCAUUAAAUACUAUCCAAGUGGAGUCGU       CUAGGUGCUU   \n",
       "test27       UACGACGGUCUGUGAAUGAUAAGGA   AGGCAGAGGGCGAU   \n",
       "test28               GACGCUUACAAGUCCGC   AGGUACUGAAAGAU   \n",
       "test29          GAUGAAUUGCGUCACGGUCGGU    AUAUAUAGGCAAA   \n",
       "\n",
       "                                                 ribozyme           helix2  \\\n",
       "test0   GGGACGGGCCAUCAUCUAUCCCUGAAGAGACGAAGGCUUCGGCCAA...       GCCUUUAGGA   \n",
       "test1   GGGACGGGCCAUCAUCUAUCCCUGAAGAGACGAAGGCUUCGGCCAA...     CGAAGGUGUGAC   \n",
       "test2   GGGACGGGCCAUCAUCUAUCCCUGAAGAGACGAAGGCUUCGGCCAA...       UAAAAUACGU   \n",
       "test3   GGGACGGGCCAUCAUCUAUCCCUGAAGAGACGAAGGCUUCGGCCAA...       CGGUCCGGAG   \n",
       "test4   GGGACGGGCCAUCAUCUAUCCCUGAAGAGACGAAGGCUUCGGCCAA...   CAUCAGCUAAAUAC   \n",
       "test5   GGGACGGGCCAUCAUCUAUCCCUGAAGAGACGAAGGCUUCGGCCAA...    CGGCGGCAUCCUU   \n",
       "test6   GGGACGGGCCAUCAUCUAUCCCUGAAGAGACGAAGGCUUCGGCCAA...       UCUUCGGGAC   \n",
       "test7   GGGACGGGCCAUCAUCUAUCCCUGAAGAGACGAAGGCUUCGGCCAA...     CACAAGUAUAAA   \n",
       "test8   GGGACGGGCCAUCAUCUAUCCCUGAAGAGACGAAGGCUUCGGCCAA...    CGGGAGCGGCGCU   \n",
       "test9   GGGACGGGCCAUCAUCUAUCCCUGAAGAGACGAAGGCUUCGGCCAA...       GGUACGCAGC   \n",
       "test10  GGGACGGGCCAUCAUCUAUCCCUGAAGAGACGAAGGCUUCGGCCAA...      AAACGAUCUGA   \n",
       "test11  GGGACGGGCCAUCAUCUAUCCCUGAAGAGACGAAGGCUUCGGCCAA...   CCAUAGUGCCUGAU   \n",
       "test12  GGGACGGGCCAUCAUCUAUCCCUGAAGAGACGAAGGCUUCGGCCAA...  CGAUGUCAUUGGACA   \n",
       "test13  GGGACGGGCCAUCAUCUAUCCCUGAAGAGACGAAGGCUUCGGCCAA...     GGGCCUAUAGCC   \n",
       "test14  GGGACGGGCCAUCAUCUAUCCCUGAAGAGACGAAGGCUUCGGCCAA...      UACAAUAGUCG   \n",
       "test15  GGGACGGGCCAUCAUCUAUCCCUGAAGAGACGAAGGCUUCGGCCAA...     UUGGCGAGCUGA   \n",
       "test16  GGGACGGGCCAUCAUCUAUCCCUGAAGAGACGAAGGCUUCGGCCAA...    UGUAUGUACUGGG   \n",
       "test17  GGGACGGGCCAUCAUCUAUCCCUGAAGAGACGAAGGCUUCGGCCAA...      CUCAAUAAAUA   \n",
       "test18  GGGACGGGCCAUCAUCUAUCCCUGAAGAGACGAAGGCUUCGGCCAA...       ACGCCACCCG   \n",
       "test19  GGGACGGGCCAUCAUCUAUCCCUGAAGAGACGAAGGCUUCGGCCAA...   UUAAGAGUUCAAAC   \n",
       "test20  GGGACGGGCCAUCAUCUAUCCCUGAAGAGACGAAGGCUUCGGCCAA...     UGGGGUCACAAC   \n",
       "test21  GGGACGGGCCAUCAUCUAUCCCUGAAGAGACGAAGGCUUCGGCCAA...       CGCGAUUGAU   \n",
       "test22  GGGACGGGCCAUCAUCUAUCCCUGAAGAGACGAAGGCUUCGGCCAA...    CUCACCGUGCAAU   \n",
       "test23  GGGACGGGCCAUCAUCUAUCCCUGAAGAGACGAAGGCUUCGGCCAA...   GUAGCGGCUAAGAU   \n",
       "test24  GGGACGGGCCAUCAUCUAUCCCUGAAGAGACGAAGGCUUCGGCCAA...    AGCGAAUUGCCGU   \n",
       "test25  GGGACGGGCCAUCAUCUAUCCCUGAAGAGACGAAGGCUUCGGCCAA...   UGUUGGAGAUGCCA   \n",
       "test26  GGGACGGGCCAUCAUCUAUCCCUGAAGAGACGAAGGCUUCGGCCAA...       AAGCACCUAG   \n",
       "test27  GGGACGGGCCAUCAUCUAUCCCUGAAGAGACGAAGGCUUCGGCCAA...   AUCGCCCUCUGCCU   \n",
       "test28  GGGACGGGCCAUCAUCUAUCCCUGAAGAGACGAAGGCUUCGGCCAA...   AUCUUUCAGUACCU   \n",
       "test29  GGGACGGGCCAUCAUCUAUCCCUGAAGAGACGAAGGCUUCGGCCAA...    UUUGCCUAUAUAU   \n",
       "\n",
       "                                  ins2  \\\n",
       "test0              GCACUGCCCACUCUAACAU   \n",
       "test1             GAUUAGAUUAUACCGUCAGG   \n",
       "test2   UUCACAUGGAGUGACUCGGUUUAAUCGUCA   \n",
       "test3               UCUCAAUGAAGAGAACCU   \n",
       "test4              AACGCGCCGGGUUCGGCAC   \n",
       "test5             GCCUUCCCAUGCAUCCAGAG   \n",
       "test6           AAUUCGGCGGUGGAUGCGGCUA   \n",
       "test7     AAGCCACCAAAACUGUCAUGUGCACUGA   \n",
       "test8            ACGUCAUACGUAUCGUGAUCA   \n",
       "test9             GUCGUGAUGGACUGACACGU   \n",
       "test10       GACCCGUAAAUAGUCUUCAUGACCU   \n",
       "test11            AAGUACACAUUGCUAAGCGU   \n",
       "test12         CUUUACUGUCUUGCUUUCAGGAA   \n",
       "test13  AAUUGGGCGGAUUCACAUUAGAUGUACUAA   \n",
       "test14     CGAGACGGCUUUAUAGCAGAAUUACUA   \n",
       "test15     CGGUUGUCGCCCUUACUGGUAAGCCUC   \n",
       "test16             GCACAUGGGAACUCUGAAC   \n",
       "test17     ACAUCAAGCAUGGAUUUCGGUCGGUCU   \n",
       "test18   GCAACAAGCUGUACCGCGCCUGAGUUAGA   \n",
       "test19             CCACCACAAGCACGGAAAG   \n",
       "test20                AGUUCGAUUUGUGAAC   \n",
       "test21    ACGGGAUAUUCCAAAUUGAUGGGAUCAU   \n",
       "test22             UGCUGGGUAAUACGUUGAA   \n",
       "test23         CGGAGUUCACGGAACGAUUUCGA   \n",
       "test24     AUAUGAGACAAACGCGCUACGGUGGGA   \n",
       "test25                 GGAGCGCGCGUCCGG   \n",
       "test26   UCCGUGAUAAGUAAGGUCUUUCUGUUAGG   \n",
       "test27      UGGAAACCGUUGCAGUAGCACCUUAC   \n",
       "test28     AUAAAACGUUGAGAAGUUCCACAAACC   \n",
       "test29       CCAAAUGAACUGUAAGCCGCGUAAA   \n",
       "\n",
       "                                       downstream_context  \n",
       "test0   GAGCUUCAGCAGCUaCGugACguuCgagugggguCAugUgguUGCg...  \n",
       "test1   GAGCUUCAGCAGCUaCGugACguuCgagugggguCAugUgguUGCg...  \n",
       "test2   GAGCUUCAGCAGCUaCGugACguuCgagugggguCAugUgguUGCg...  \n",
       "test3   GAGCUUCAGCAGCUaCGugACguuCgagugggguCAugUgguUGCg...  \n",
       "test4   GAGCUUCAGCAGCUaCGugACguuCgagugggguCAugUgguUGCg...  \n",
       "test5   GAGCUUCAGCAGCUaCGugACguuCgagugggguCAugUgguUGCg...  \n",
       "test6   GAGCUUCAGCAGCUaCGugACguuCgagugggguCAugUgguUGCg...  \n",
       "test7   GAGCUUCAGCAGCUaCGugACguuCgagugggguCAugUgguUGCg...  \n",
       "test8   GAGCUUCAGCAGCUaCGugACguuCgagugggguCAugUgguUGCg...  \n",
       "test9   GAGCUUCAGCAGCUaCGugACguuCgagugggguCAugUgguUGCg...  \n",
       "test10  GAGCUUCAGCAGCUaCGugACguuCgagugggguCAugUgguUGCg...  \n",
       "test11  GAGCUUCAGCAGCUaCGugACguuCgagugggguCAugUgguUGCg...  \n",
       "test12  GAGCUUCAGCAGCUaCGugACguuCgagugggguCAugUgguUGCg...  \n",
       "test13  GAGCUUCAGCAGCUaCGugACguuCgagugggguCAugUgguUGCg...  \n",
       "test14  GAGCUUCAGCAGCUaCGugACguuCgagugggguCAugUgguUGCg...  \n",
       "test15  GAGCUUCAGCAGCUaCGugACguuCgagugggguCAugUgguUGCg...  \n",
       "test16  GAGCUUCAGCAGCUaCGugACguuCgagugggguCAugUgguUGCg...  \n",
       "test17  GAGCUUCAGCAGCUaCGugACguuCgagugggguCAugUgguUGCg...  \n",
       "test18  GAGCUUCAGCAGCUaCGugACguuCgagugggguCAugUgguUGCg...  \n",
       "test19  GAGCUUCAGCAGCUaCGugACguuCgagugggguCAugUgguUGCg...  \n",
       "test20  GAGCUUCAGCAGCUaCGugACguuCgagugggguCAugUgguUGCg...  \n",
       "test21  GAGCUUCAGCAGCUaCGugACguuCgagugggguCAugUgguUGCg...  \n",
       "test22  GAGCUUCAGCAGCUaCGugACguuCgagugggguCAugUgguUGCg...  \n",
       "test23  GAGCUUCAGCAGCUaCGugACguuCgagugggguCAugUgguUGCg...  \n",
       "test24  GAGCUUCAGCAGCUaCGugACguuCgagugggguCAugUgguUGCg...  \n",
       "test25  GAGCUUCAGCAGCUaCGugACguuCgagugggguCAugUgguUGCg...  \n",
       "test26  GAGCUUCAGCAGCUaCGugACguuCgagugggguCAugUgguUGCg...  \n",
       "test27  GAGCUUCAGCAGCUaCGugACguuCgagugggguCAugUgguUGCg...  \n",
       "test28  GAGCUUCAGCAGCUaCGugACguuCgagugggguCAugUgguUGCg...  \n",
       "test29  GAGCUUCAGCAGCUaCGugACguuCgagugggguCAugUgguUGCg...  "
      ]
     },
     "execution_count": 27,
     "metadata": {},
     "output_type": "execute_result"
    }
   ],
   "source": [
    "new_thing"
   ]
  },
  {
   "cell_type": "code",
   "execution_count": null,
   "metadata": {
    "collapsed": true
   },
   "outputs": [],
   "source": []
  }
 ],
 "metadata": {
  "kernelspec": {
   "display_name": "Python 2",
   "language": "python",
   "name": "python2"
  },
  "language_info": {
   "codemirror_mode": {
    "name": "ipython",
    "version": 2
   },
   "file_extension": ".py",
   "mimetype": "text/x-python",
   "name": "python",
   "nbconvert_exporter": "python",
   "pygments_lexer": "ipython2",
   "version": "2.7.6"
  }
 },
 "nbformat": 4,
 "nbformat_minor": 0
}
