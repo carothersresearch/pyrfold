{
 "cells": [
  {
   "cell_type": "markdown",
   "metadata": {
    "collapsed": true
   },
   "source": [
    "# Importing dependencies"
   ]
  },
  {
   "cell_type": "code",
   "execution_count": 2,
   "metadata": {
    "collapsed": true
   },
   "outputs": [],
   "source": [
    "import sys\n",
    "#makin pyrfold visible to the system\n",
    "sys.path.append('../../')\n",
    "import pyrfold as pyr"
   ]
  },
  {
   "cell_type": "markdown",
   "metadata": {},
   "source": [
    "## Defining RNA component parts that have defined characteristics"
   ]
  },
  {
   "cell_type": "code",
   "execution_count": 3,
   "metadata": {
    "collapsed": false
   },
   "outputs": [],
   "source": [
    "helix1 = pyr.design.RNA.Helix(size_range=(10,15), GC_range=None)\n",
    "unpaired1 = pyr.design.RNA.Unpaired(size_range=(15, 30), GC_range=[0.4, 0.7])\n",
    "unpaired2 = pyr.design.RNA.Unpaired(size_range=(15, 30), GC_range=None)"
   ]
  },
  {
   "cell_type": "code",
   "execution_count": 16,
   "metadata": {
    "collapsed": false
   },
   "outputs": [
    {
     "name": "stdout",
     "output_type": "stream",
     "text": [
      "UUGUAAGACGUUC\n",
      "GAACGUCUUACAA\n"
     ]
    }
   ],
   "source": [
    "helix1.randomize()\n",
    "print helix1.helix0\n",
    "print helix1.helix1"
   ]
  },
  {
   "cell_type": "code",
   "execution_count": 22,
   "metadata": {
    "collapsed": false
   },
   "outputs": [
    {
     "name": "stdout",
     "output_type": "stream",
     "text": [
      "UUCUCGAGGCCGCCUUCCGAUGGU\n"
     ]
    }
   ],
   "source": [
    "unpaired1.randomize()\n",
    "print unpaired1"
   ]
  },
  {
   "cell_type": "markdown",
   "metadata": {},
   "source": [
    "## Defining RNA components that have a SET sequence"
   ]
  },
  {
   "cell_type": "code",
   "execution_count": 23,
   "metadata": {
    "collapsed": true
   },
   "outputs": [],
   "source": [
    "upstream_context = 'AGAGCAUCAGACGGGCUgGUCAGACUAUCUAUCUAUCgAUCUGAUCCUACUGUGUACgUGUAGUAUGCAUGACG'\n",
    "downstream_context = 'GAGCUUCAGCAGCUaCGugACguuCgagugggguCAugUgguUGCguugUACUCUGaCUCUGaCUGUCGUCAUCGCUAGCUAGUCauCG'\n",
    "ribozyme_RNA_sequence = 'GGGACGGGCCAUCAUCUAUCCCUGAAGAGACGAAGGCUUCGGCCAAGUCGAAACGGAAACGUCGGAUAGUCGCCCGUCCC'"
   ]
  },
  {
   "cell_type": "markdown",
   "metadata": {},
   "source": [
    "## Creating a Device from these parts"
   ]
  },
  {
   "cell_type": "code",
   "execution_count": 24,
   "metadata": {
    "collapsed": false
   },
   "outputs": [],
   "source": [
    "part_list = ['upstream_context', 'ins1', 'helix1', 'ribozyme', 'helix2', 'ins2', 'downstream_context']\n",
    "sequence_list = [upstream_context, '', '', ribozyme_RNA_sequence, '', '', downstream_context]\n",
    "RNAdevice = pyr.design.RNA.Device(partnamelist=part_list, sequencelist=sequence_list)"
   ]
  },
  {
   "cell_type": "markdown",
   "metadata": {},
   "source": [
    "## Linking a RNA components to the device"
   ]
  },
  {
   "cell_type": "code",
   "execution_count": 25,
   "metadata": {
    "collapsed": false
   },
   "outputs": [],
   "source": [
    "# Note that the addition of helix part requires you to label two parts which it is associated with\n",
    "RNAdevice.add_helix_part(helix1, ('helix1', 'helix2'))\n",
    "RNAdevice.add_unpaired_part(unpaired1, 'ins1')\n",
    "RNAdevice.add_unpaired_part(unpaired2, 'ins2')"
   ]
  },
  {
   "cell_type": "code",
   "execution_count": 40,
   "metadata": {
    "collapsed": false
   },
   "outputs": [
    {
     "data": {
      "text/plain": [
       "{'downstream_context': 'GAGCUUCAGCAGCUACGUGACGUUCGAGUGGGGUCAUGUGGUUGCGUUGUACUCUGACUCUGACUGUCGUCAUCGCUAGCUAGUCAUCG',\n",
       " 'helix1': 'CUGGCGCCUU',\n",
       " 'helix2': 'AAGGCGCCAG',\n",
       " 'ins1': 'CUCUCGGCCUGACGGCGGAUCAGCAGCUGA',\n",
       " 'ins2': 'CUAAUUGCUGAUCAC',\n",
       " 'ribozyme': 'GGGACGGGCCAUCAUCUAUCCCUGAAGAGACGAAGGCUUCGGCCAAGUCGAAACGGAAACGUCGGAUAGUCGCCCGUCCC',\n",
       " 'upstream_context': 'AGAGCAUCAGACGGGCUGGUCAGACUAUCUAUCUAUCGAUCUGAUCCUACUGUGUACGUGUAGUAUGCAUGACG'}"
      ]
     },
     "execution_count": 40,
     "metadata": {},
     "output_type": "execute_result"
    }
   ],
   "source": [
    "# Now we can easily randomize these parts\n",
    "RNAdevice.randomize_parts()\n",
    "RNAdevice.parttosequence"
   ]
  },
  {
   "cell_type": "code",
   "execution_count": 7,
   "metadata": {
    "collapsed": false
   },
   "outputs": [
    {
     "data": {
      "text/plain": [
       "['AGAGCAUCAGACGGGCUgGUCAGACUAUCUAUCUAUCgAUCUGAUCCUACUGUGUACgUGUAGUAUGCAUGACG',\n",
       " unpa.ACAGUUACGAAGGACAGCAAGGCA,\n",
       " 'CGCGAGUGAUGACA',\n",
       " 'GGGACGGGCCAUCAUCUAUCCCUGAAGAGACGAAGGCUUCGGCCAAGUCGAAACGGAAACGUCGGAUAGUCGCCCGUCCC',\n",
       " 'UGUCAUCACUCGCG',\n",
       " unpa.UCACCCUGCUCUCUGCAAGUUUAU,\n",
       " 'GAGCUUCAGCAGCUaCGugACguuCgagugggguCAugUgguUGCguugUACUCUGaCUCUGaCUGUCGUCAUCGCUAGCUAGUCauCG']"
      ]
     },
     "execution_count": 7,
     "metadata": {},
     "output_type": "execute_result"
    }
   ],
   "source": [
    "RNAdevice.sequencelist"
   ]
  },
  {
   "cell_type": "code",
   "execution_count": null,
   "metadata": {
    "collapsed": true
   },
   "outputs": [],
   "source": []
  },
  {
   "cell_type": "markdown",
   "metadata": {},
   "source": [
    "## Precisely changing RNA part sequences"
   ]
  },
  {
   "cell_type": "code",
   "execution_count": 41,
   "metadata": {
    "collapsed": false
   },
   "outputs": [
    {
     "data": {
      "text/plain": [
       "{'downstream_context': 'GAGCUUCAGCAGCUACGUGACGUUCGAGUGGGGUCAUGUGGUUGCGUUGUACUCUGACUCUGACUGUCGUCAUCGCUAGCUAGUCAUCG',\n",
       " 'helix1': 'CUGGCGCCUU',\n",
       " 'helix2': 'AAGGCGCCAG',\n",
       " 'ins1': 'CUCUCGGCCUGACGGCGGAUCAGCAGCUGA',\n",
       " 'ins2': 'CUAAUUGCUGAUCAC',\n",
       " 'ribozyme': 'GGGACGGGCCAUCAUCUAUCCCUGAAGAGACGAAGGCUUCGGCCAAGUCGAAACGGAAACGUCGGAUAGUCGCCCGUCCC',\n",
       " 'upstream_context': 'ACGAUCGAUGCGCGGCGGCGUAUGCUGUAGCGUAUGCGAUGCA'}"
      ]
     },
     "execution_count": 41,
     "metadata": {},
     "output_type": "execute_result"
    }
   ],
   "source": [
    "RNAdevice.change_part_sequence('upstream_context', 'ACGAUCGAUGCGCGGCGGCGUAUGCUGUAGCGUAUGCGAUGCA')\n",
    "RNAdevice.parttosequence"
   ]
  },
  {
   "cell_type": "markdown",
   "metadata": {},
   "source": [
    "## Collecting the sequence of a specific part"
   ]
  },
  {
   "cell_type": "code",
   "execution_count": 42,
   "metadata": {
    "collapsed": false
   },
   "outputs": [
    {
     "data": {
      "text/plain": [
       "'GAGCUUCAGCAGCUACGUGACGUUCGAGUGGGGUCAUGUGGUUGCGUUGUACUCUGACUCUGACUGUCGUCAUCGCUAGCUAGUCAUCG'"
      ]
     },
     "execution_count": 42,
     "metadata": {},
     "output_type": "execute_result"
    }
   ],
   "source": [
    "RNAdevice.part_sequence('downstream_context')"
   ]
  },
  {
   "cell_type": "markdown",
   "metadata": {},
   "source": [
    "## Extracting the entire sequence"
   ]
  },
  {
   "cell_type": "code",
   "execution_count": 43,
   "metadata": {
    "collapsed": false
   },
   "outputs": [
    {
     "data": {
      "text/plain": [
       "'ACGAUCGAUGCGCGGCGGCGUAUGCUGUAGCGUAUGCGAUGCACUCUCGGCCUGACGGCGGAUCAGCAGCUGACUGGCGCCUUGGGACGGGCCAUCAUCUAUCCCUGAAGAGACGAAGGCUUCGGCCAAGUCGAAACGGAAACGUCGGAUAGUCGCCCGUCCCAAGGCGCCAGCUAAUUGCUGAUCACGAGCUUCAGCAGCUACGUGACGUUCGAGUGGGGUCAUGUGGUUGCGUUGUACUCUGACUCUGACUGUCGUCAUCGCUAGCUAGUCAUCG'"
      ]
     },
     "execution_count": 43,
     "metadata": {},
     "output_type": "execute_result"
    }
   ],
   "source": [
    "str(RNAdevice)"
   ]
  },
  {
   "cell_type": "code",
   "execution_count": 44,
   "metadata": {
    "collapsed": false
   },
   "outputs": [
    {
     "data": {
      "text/plain": [
       "'ACGAUCGAUGCGCGGCGGCGUAUGCUGUAGCGUAUGCGAUGCACUCUCGGCCUGACGGCGGAUCAGCAGCUGACUGGCGCCUUGGGACGGGCCAUCAUCUAUCCCUGAAGAGACGAAGGCUUCGGCCAAGUCGAAACGGAAACGUCGGAUAGUCGCCCGUCCCAAGGCGCCAGCUAAUUGCUGAUCACGAGCUUCAGCAGCUaCGugACguuCgagugggguCAugUgguUGCguugUACUCUGaCUCUGaCUGUCGUCAUCGCUAGCUAGUCauCG'"
      ]
     },
     "execution_count": 44,
     "metadata": {},
     "output_type": "execute_result"
    }
   ],
   "source": [
    "RNAdevice.sequence"
   ]
  },
  {
   "cell_type": "code",
   "execution_count": null,
   "metadata": {
    "collapsed": true
   },
   "outputs": [],
   "source": [
    "RNA"
   ]
  },
  {
   "cell_type": "markdown",
   "metadata": {},
   "source": [
    "# Creating a submission for this device"
   ]
  },
  {
   "cell_type": "code",
   "execution_count": 45,
   "metadata": {
    "collapsed": false
   },
   "outputs": [],
   "source": [
    "# We want to keep track of this data, both for submitting folding information \n",
    "#\n",
    "\n",
    "submission_list = []\n",
    "detailed_part_information_list = []\n",
    "name_list = []\n",
    "\n",
    "for i in range(30):\n",
    "    name = 'test' + str(i)\n",
    "    RNAdevice.randomize_parts()\n",
    "    detailed_part_information_list.append(RNAdevice.return_parts_sequences())\n",
    "    name_list.append(name)\n",
    "    submission_list.append(RNAdevice.create_kinefold_submission_object(device_name=name, partcontexttofold='all', \n",
    "                                                partstofold=['ribozyme'], fiveprimeshift=False, \n",
    "                                                fiveprimerefpart=None, threeprimeshift=False, \n",
    "                                                threeprimerefpart=None, polrate=30, foldtimeafter=1, \n",
    "                                                experimenttype=2, pseudoknots=0, entanglements=0, \n",
    "                                                numberofsimulations=10, helix_min_free_engery=6.3460741))"
   ]
  },
  {
   "cell_type": "markdown",
   "metadata": {},
   "source": [
    "## writing the submission file for this submission"
   ]
  },
  {
   "cell_type": "code",
   "execution_count": 13,
   "metadata": {
    "collapsed": false
   },
   "outputs": [],
   "source": [
    "pyr.pyrfile.filled_in_kinefold_form(filename='test_sub', list_of_sub_objects=submission_list)"
   ]
  },
  {
   "cell_type": "markdown",
   "metadata": {},
   "source": [
    "## Creating a basic summary of these experiments"
   ]
  },
  {
   "cell_type": "code",
   "execution_count": 49,
   "metadata": {
    "collapsed": false
   },
   "outputs": [],
   "source": [
    "part_information_df_special = pyr.utilities.create_dataframe_of_part_information(part_information_list=detailed_part_information_list, \n",
    "                                                   name_list=name_list)"
   ]
  },
  {
   "cell_type": "code",
   "execution_count": 47,
   "metadata": {
    "collapsed": false
   },
   "outputs": [],
   "source": [
    "part_information_df = pyr.utilities.create_dataframe_of_submission(submission_list)"
   ]
  },
  {
   "cell_type": "markdown",
   "metadata": {},
   "source": [
    "All of these file types are pandas DataFrames which can easily be saved as either pickled python objects. Or written as .csv files for later import. Using this method the names of the devices will be exactly the same as the files of data that are generated when analyzing device folding"
   ]
  },
  {
   "cell_type": "code",
   "execution_count": 51,
   "metadata": {
    "collapsed": false
   },
   "outputs": [],
   "source": [
    "part_information_df_special.to_csv('special_csv_out')"
   ]
  },
  {
   "cell_type": "code",
   "execution_count": 52,
   "metadata": {
    "collapsed": true
   },
   "outputs": [],
   "source": [
    "import pandas as pd\n",
    "with open('special_csv_out') as tempdf:\n",
    "    new_thing = pd.DataFrame.from_csv(tempdf)"
   ]
  },
  {
   "cell_type": "code",
   "execution_count": 54,
   "metadata": {
    "collapsed": false
   },
   "outputs": [
    {
     "data": {
      "text/plain": [
       "test0     ACGAUCGAUGCGCGGCGGCGUAUGCUGUAGCGUAUGCGAUGCA\n",
       "test1     ACGAUCGAUGCGCGGCGGCGUAUGCUGUAGCGUAUGCGAUGCA\n",
       "test2     ACGAUCGAUGCGCGGCGGCGUAUGCUGUAGCGUAUGCGAUGCA\n",
       "test3     ACGAUCGAUGCGCGGCGGCGUAUGCUGUAGCGUAUGCGAUGCA\n",
       "test4     ACGAUCGAUGCGCGGCGGCGUAUGCUGUAGCGUAUGCGAUGCA\n",
       "test5     ACGAUCGAUGCGCGGCGGCGUAUGCUGUAGCGUAUGCGAUGCA\n",
       "test6     ACGAUCGAUGCGCGGCGGCGUAUGCUGUAGCGUAUGCGAUGCA\n",
       "test7     ACGAUCGAUGCGCGGCGGCGUAUGCUGUAGCGUAUGCGAUGCA\n",
       "test8     ACGAUCGAUGCGCGGCGGCGUAUGCUGUAGCGUAUGCGAUGCA\n",
       "test9     ACGAUCGAUGCGCGGCGGCGUAUGCUGUAGCGUAUGCGAUGCA\n",
       "test10    ACGAUCGAUGCGCGGCGGCGUAUGCUGUAGCGUAUGCGAUGCA\n",
       "test11    ACGAUCGAUGCGCGGCGGCGUAUGCUGUAGCGUAUGCGAUGCA\n",
       "test12    ACGAUCGAUGCGCGGCGGCGUAUGCUGUAGCGUAUGCGAUGCA\n",
       "test13    ACGAUCGAUGCGCGGCGGCGUAUGCUGUAGCGUAUGCGAUGCA\n",
       "test14    ACGAUCGAUGCGCGGCGGCGUAUGCUGUAGCGUAUGCGAUGCA\n",
       "test15    ACGAUCGAUGCGCGGCGGCGUAUGCUGUAGCGUAUGCGAUGCA\n",
       "test16    ACGAUCGAUGCGCGGCGGCGUAUGCUGUAGCGUAUGCGAUGCA\n",
       "test17    ACGAUCGAUGCGCGGCGGCGUAUGCUGUAGCGUAUGCGAUGCA\n",
       "test18    ACGAUCGAUGCGCGGCGGCGUAUGCUGUAGCGUAUGCGAUGCA\n",
       "test19    ACGAUCGAUGCGCGGCGGCGUAUGCUGUAGCGUAUGCGAUGCA\n",
       "test20    ACGAUCGAUGCGCGGCGGCGUAUGCUGUAGCGUAUGCGAUGCA\n",
       "test21    ACGAUCGAUGCGCGGCGGCGUAUGCUGUAGCGUAUGCGAUGCA\n",
       "test22    ACGAUCGAUGCGCGGCGGCGUAUGCUGUAGCGUAUGCGAUGCA\n",
       "test23    ACGAUCGAUGCGCGGCGGCGUAUGCUGUAGCGUAUGCGAUGCA\n",
       "test24    ACGAUCGAUGCGCGGCGGCGUAUGCUGUAGCGUAUGCGAUGCA\n",
       "test25    ACGAUCGAUGCGCGGCGGCGUAUGCUGUAGCGUAUGCGAUGCA\n",
       "test26    ACGAUCGAUGCGCGGCGGCGUAUGCUGUAGCGUAUGCGAUGCA\n",
       "test27    ACGAUCGAUGCGCGGCGGCGUAUGCUGUAGCGUAUGCGAUGCA\n",
       "test28    ACGAUCGAUGCGCGGCGGCGUAUGCUGUAGCGUAUGCGAUGCA\n",
       "test29    ACGAUCGAUGCGCGGCGGCGUAUGCUGUAGCGUAUGCGAUGCA\n",
       "Name: upstream_context, dtype: object"
      ]
     },
     "execution_count": 54,
     "metadata": {},
     "output_type": "execute_result"
    }
   ],
   "source": [
    "new_thing."
   ]
  },
  {
   "cell_type": "code",
   "execution_count": null,
   "metadata": {
    "collapsed": true
   },
   "outputs": [],
   "source": []
  }
 ],
 "metadata": {
  "kernelspec": {
   "display_name": "Python 2",
   "language": "python",
   "name": "python2"
  },
  "language_info": {
   "codemirror_mode": {
    "name": "ipython",
    "version": 2
   },
   "file_extension": ".py",
   "mimetype": "text/x-python",
   "name": "python",
   "nbconvert_exporter": "python",
   "pygments_lexer": "ipython2",
   "version": "2.7.6"
  }
 },
 "nbformat": 4,
 "nbformat_minor": 0
}
