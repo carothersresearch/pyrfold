{
 "cells": [
  {
   "cell_type": "code",
   "execution_count": 5,
   "metadata": {
    "collapsed": true
   },
   "outputs": [],
   "source": [
    "import sys\n",
    "#makin pyrfold visible to the system\n",
    "sys.path.append('../../')\n",
    "import pyrfold"
   ]
  },
  {
   "cell_type": "markdown",
   "metadata": {},
   "source": [
    "# Introduction"
   ]
  },
  {
   "cell_type": "markdown",
   "metadata": {},
   "source": [
    "This notebook should serve as a basic template and a walkthrough for making a submission csv file for generating hyak simulation data. \n",
    "\n",
    "First thing is first. We need to define what we are working with. For this example I will be defining a left and right context and then combining multiple parts and insulating sequences into a simuation dictionary. "
   ]
  },
  {
   "cell_type": "code",
   "execution_count": 1,
   "metadata": {
    "collapsed": false
   },
   "outputs": [],
   "source": [
    "#Context sequences\n",
    "fiveflank = \"CTTACGATGTTCCAGATTACGCTCCCATGGTGAGCAAGGGCGAGGAGCTGTTCACCGGGGTGGTGCCCATCCTGGTCGAGCTGGACGGCGACGTAAACGGCCACAAGTTCAGCGTGTCCGGCGAGGGCGAGGTGAGTCTATGGGACCCTTGATGTTTTCTTTCCCCTTCTTTTCTATGGTTAAGTTCATGTCATAGGAAGGGGAGAAGTAACAGGGTACAGTTTAGAATGGGAAACAGACGAATGATTGCATCAGTGTGGAAGTCTCAGGATCGTTTTAGTTTCTTTTATTTGCTGTTCATAACAATTggatcc\"\n",
    "threeflank = \"ggatccGTTTTCTTTTGTTTAATTCTTGCTTTCTTTTTTTTTCTTCTCCGCAATTTTTACTATTATACTTAATGCCTTAACATTGTGTATAACAAAAGGAAATATCTCTGAGATACATTAAGTAACTTAAAAAAAAACTTTACACAGTCTGCCTAGTACATTACTATTTGGAATATATGTGTGCTTATTTGCATATTCATAATCTCCCTACTTTATTTTCTTTTATTTTTAATTGATACATAATCATTATACATATTTATGGGTTAAAGTGT\"\n",
    "#part sequences\n",
    "parts = {'ASBV-1': 'GGGACGGGCCAUCAUCUAUCCCUGAAGAGACGAAGGCUUCGGCCAAGUCGAAACGGAAACGUCGGAUAGUCGCCCGUCCC',\n",
    "         'sTRSV-2': 'GGGCCUGUCACCGGAUGUGCUUUCCGGUCUGAUGAGUCCCUGAAAUGGGACGAAACAGGCCC',\n",
    "         'Sman': 'GGGCGAAAGCCGGCGCGUCCUGGAUUCCACUGCUUCGGCAGGUACAUCCAGCUGAUGAGUCCCAAAUAGGACGAAACGCGCU',\n",
    "         'ASBV-3': 'GGGACGGGCCAUCAUCUAUCCCUGAAGAGACGAAGGCUUCGGCCUCGUCGAAACGGAAACGUGGGAUAGUCGCCCGUCCC'}\n",
    "#insulating sequences\n",
    "insulatingsequences = {'ASBV-1': ['CUGACCAACCCAUA', 'AAUAGUAACCAAAC', '044', '017'],\n",
    "'ASBV-3': ['UGGGAGAAAUAGUAC', 'UGUGGAACAAACG', '043', '017'],\n",
    "'Sman': ['CGAGAGAACACAUGA', 'AAAAAAAACAA', '030', '007'],\n",
    "'sTRSV-2': ['UGCUAGCGAUGCGC', 'CUGCGUAAACG', '033', '017']}\n",
    "\n",
    "import pickle\n",
    "#Now let's load the reference structures\n",
    "referencedata = pickle.load(open('exampledata/reference_part_structures.p', 'rb'))"
   ]
  },
  {
   "cell_type": "markdown",
   "metadata": {},
   "source": [
    "These devices are going to be folded multiple times at different windows and at different rates, as a cosequence they are going to need a unique name for every submission"
   ]
  },
  {
   "cell_type": "markdown",
   "metadata": {},
   "source": [
    "Now we have to submit these files for simulations, we are going to do multiple rounds of simulations - consequently we have to submit in a specific file hirearchy:\n",
    "\n",
    ">EXPERIMENTFOLDER\n",
    ">>PYRFOLD (THIS IS THE LOWER LEVEL PYRFOLD)\n",
    "\n",
    ">>submission.py\n",
    "\n",
    ">>submission_file.csv\n",
    "\n"
   ]
  },
  {
   "cell_type": "markdown",
   "metadata": {},
   "source": [
    "#Buidling the submission.csv file#"
   ]
  },
  {
   "cell_type": "markdown",
   "metadata": {},
   "source": [
    "We are going to use the the **object** FoldingSubData\n",
    "\n",
    "\n",
    "## Step 1: Define a list to populate with objects to fold"
   ]
  },
  {
   "cell_type": "code",
   "execution_count": 3,
   "metadata": {
    "collapsed": false
   },
   "outputs": [],
   "source": [
    "submission_list = []"
   ]
  },
  {
   "cell_type": "markdown",
   "metadata": {},
   "source": [
    "## Step 2: Populate the list with unique sequences for folding"
   ]
  },
  {
   "cell_type": "code",
   "execution_count": 6,
   "metadata": {
    "collapsed": false
   },
   "outputs": [],
   "source": [
    "for part, partsequence in parts.iteritems():\n",
    "    #This iterates through the ribozyme part examples that are loaded in earlier\n",
    "    \n",
    "    #we can pull the specific insulating sequence\n",
    "    temp_ins_seq = insulatingsequences[part]\n",
    "    temp_five_prime_ins = temp_ins_seq[0]\n",
    "    temp_three_prime_ins = temp_ins_seq[1]\n",
    "    \n",
    "    seq_to_fold = temp_five_prime_ins + partsequence + temp_three_prime_ins\n",
    "    \n",
    "    #Describe all other imporant variables\n",
    "    fold_name = part \n",
    "    windowstart = 1\n",
    "    windowstop = len(seq_to_fold)\n",
    "    polrate = 20\n",
    "    \n",
    "    \n",
    "    # Defining a dummy varivable for the object so it can be appended\n",
    "    temp = pyrfold.FoldingSubData(name=fold_name, sequence=seq_to_fold, windowstart=1, windowstop=windowstop, \n",
    "                           polrate=20, numberofsimulations=30)\n",
    "    submission_list.append(temp)"
   ]
  },
  {
   "cell_type": "code",
   "execution_count": 7,
   "metadata": {
    "collapsed": false
   },
   "outputs": [
    {
     "data": {
      "text/plain": [
       "[<pyrfold.foldingsub.FoldingSubData at 0x7f9dd057ae90>,\n",
       " <pyrfold.foldingsub.FoldingSubData at 0x7f9da0604cd0>,\n",
       " <pyrfold.foldingsub.FoldingSubData at 0x7f9da0604d10>,\n",
       " <pyrfold.foldingsub.FoldingSubData at 0x7f9da0604d50>]"
      ]
     },
     "execution_count": 7,
     "metadata": {},
     "output_type": "execute_result"
    }
   ],
   "source": [
    "submission_list"
   ]
  },
  {
   "cell_type": "markdown",
   "metadata": {},
   "source": [
    "## Step 3: create a csv to submit to hyak"
   ]
  },
  {
   "cell_type": "code",
   "execution_count": 10,
   "metadata": {
    "collapsed": false
   },
   "outputs": [],
   "source": [
    "pyrfold.pyrfile.filled_in_kinefold_form(filename = 'example_outputs/test_submission', \n",
    "                                         list_of_sub_objects=submission_list)"
   ]
  },
  {
   "cell_type": "markdown",
   "metadata": {},
   "source": [
    "Now that this is build we can move everything else into the file structure manually. \n",
    "\n",
    "After this we can move this to hyak and then start processing the data. **NOTE** one must use the submission_directory.py script since there is an additional directory level. "
   ]
  }
 ],
 "metadata": {
  "kernelspec": {
   "display_name": "Python 2",
   "language": "python",
   "name": "python2"
  },
  "language_info": {
   "codemirror_mode": {
    "name": "ipython",
    "version": 2
   },
   "file_extension": ".py",
   "mimetype": "text/x-python",
   "name": "python",
   "nbconvert_exporter": "python",
   "pygments_lexer": "ipython2",
   "version": "2.7.6"
  }
 },
 "nbformat": 4,
 "nbformat_minor": 0
}
