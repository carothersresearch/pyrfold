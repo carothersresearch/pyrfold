{
 "cells": [
  {
   "cell_type": "markdown",
   "metadata": {},
   "source": [
    "# Introduction"
   ]
  },
  {
   "cell_type": "markdown",
   "metadata": {},
   "source": [
    "This notebook should serve as a basic template and a walkthrough for making a submission csv file for generating hyak simulation data. \n",
    "\n",
    "First thing is first. We need to define what we are working with. For this example I will be defining a left and right context and then combining multiple parts and insulating sequences into a simuation dictionary. "
   ]
  },
  {
   "cell_type": "code",
   "execution_count": 1,
   "metadata": {
    "collapsed": false
   },
   "outputs": [],
   "source": [
    "#Context sequences\n",
    "fiveflank = \"CTTACGATGTTCCAGATTACGCTCCCATGGTGAGCAAGGGCGAGGAGCTGTTCACCGGGGTGGTGCCCATCCTGGTCGAGCTGGACGGCGACGTAAACGGCCACAAGTTCAGCGTGTCCGGCGAGGGCGAGGTGAGTCTATGGGACCCTTGATGTTTTCTTTCCCCTTCTTTTCTATGGTTAAGTTCATGTCATAGGAAGGGGAGAAGTAACAGGGTACAGTTTAGAATGGGAAACAGACGAATGATTGCATCAGTGTGGAAGTCTCAGGATCGTTTTAGTTTCTTTTATTTGCTGTTCATAACAATTggatcc\"\n",
    "threeflank = \"ggatccGTTTTCTTTTGTTTAATTCTTGCTTTCTTTTTTTTTCTTCTCCGCAATTTTTACTATTATACTTAATGCCTTAACATTGTGTATAACAAAAGGAAATATCTCTGAGATACATTAAGTAACTTAAAAAAAAACTTTACACAGTCTGCCTAGTACATTACTATTTGGAATATATGTGTGCTTATTTGCATATTCATAATCTCCCTACTTTATTTTCTTTTATTTTTAATTGATACATAATCATTATACATATTTATGGGTTAAAGTGT\"\n",
    "#part sequences\n",
    "parts = {'ASBV-1': 'GGGACGGGCCAUCAUCUAUCCCUGAAGAGACGAAGGCUUCGGCCAAGUCGAAACGGAAACGUCGGAUAGUCGCCCGUCCC',\n",
    "         'sTRSV-2': 'GGGCCUGUCACCGGAUGUGCUUUCCGGUCUGAUGAGUCCCUGAAAUGGGACGAAACAGGCCC',\n",
    "         'Sman': 'GGGCGAAAGCCGGCGCGUCCUGGAUUCCACUGCUUCGGCAGGUACAUCCAGCUGAUGAGUCCCAAAUAGGACGAAACGCGCU',\n",
    "         'ASBV-3': 'GGGACGGGCCAUCAUCUAUCCCUGAAGAGACGAAGGCUUCGGCCUCGUCGAAACGGAAACGUGGGAUAGUCGCCCGUCCC'}\n",
    "#insulating sequences\n",
    "insulatingsequences = {'ASBV-1': ['CUGACCAACCCAUA', 'AAUAGUAACCAAAC', '044', '017'],\n",
    "'ASBV-3': ['UGGGAGAAAUAGUAC', 'UGUGGAACAAACG', '043', '017'],\n",
    "'Sman': ['CGAGAGAACACAUGA', 'AAAAAAAACAA', '030', '007'],\n",
    "'sTRSV-2': ['UGCUAGCGAUGCGC', 'CUGCGUAAACG', '033', '017']}\n",
    "\n",
    "import pickle\n",
    "#Now let's load the reference structures\n",
    "referencedata = pickle.load(open('exampledata/reference_part_structures.p', 'rb'))"
   ]
  },
  {
   "cell_type": "markdown",
   "metadata": {},
   "source": [
    "These devices are going to be folded multiple times at different windows and at different rates, as a cosequence they are going to need a unique name for every submission"
   ]
  },
  {
   "cell_type": "markdown",
   "metadata": {},
   "source": [
    "Now we have to submit these files for simulations, we are going to do multiple rounds of simulations - consequently we have to submit in a specific file hirearchy:\n",
    "\n",
    ">EXPERIMENTFOLDER\n",
    ">>PYRFOLD (THIS IS THE LOWER LEVEL PYRFOLD)\n",
    "\n",
    ">>submission.py\n",
    "\n",
    ">>submission_file.csv\n",
    "\n"
   ]
  },
  {
   "cell_type": "markdown",
   "metadata": {},
   "source": [
    "#Buidling the submission.csv file#"
   ]
  },
  {
   "cell_type": "markdown",
   "metadata": {},
   "source": [
    "We are going to use the the **object** Folding sub data\n",
    "\n",
    "    pyrfold.FoldingSubData(self, name, sequence, windowstart=0, windowstop=0, partstartstoplist=[], partnamelist=[], referencepart=None, forcedhelixes=[], polrate=30, foldtimeafter=1, experimenttype=2, pseudoknots=0, entanglements=0, numberofsimulations=10, helix_min_free_eng=6.3460741)\n",
    "    \n",
    "##Step 1 define a dictionary##"
   ]
  },
  {
   "cell_type": "code",
   "execution_count": 5,
   "metadata": {
    "collapsed": true
   },
   "outputs": [],
   "source": [
    "submission_dict = {}"
   ]
  },
  {
   "cell_type": "markdown",
   "metadata": {},
   "source": [
    "##Step 2 iterate through all components and populate dictionary##"
   ]
  },
  {
   "cell_type": "code",
   "execution_count": 6,
   "metadata": {
    "collapsed": true
   },
   "outputs": [],
   "source": [
    "for part, partsequence in parts.iteritems():\n",
    "    #This iterates through the ribozyme part examples that are loaded in earlier\n",
    "    \n",
    "    #we can pull the specific insulating sequence\n",
    "    temp_ins_seq = insulatingsequences[part]\n",
    "    temp_five_prime_ins = temp_ins_seq[0]\n",
    "    temp_three_prime_ins = temp_ins_seq[1]\n",
    "    \n",
    "    seq_to_fold = temp_five_prime_ins + partsequence + temp_three_prime_ins\n",
    "    \n",
    "    #Describe all other imporant variables\n",
    "    fold_name = part \n",
    "    windowstart = 1\n",
    "    windowstop = len(seq_to_fold)\n",
    "    polrate = 20\n",
    "    \n",
    "    \n",
    "    #ADD the sequence and all imporatant information to submission dict\n",
    "    # right now the 'key' name of the subission dict should be the name ascribed to the folding sub object\n",
    "    temp = pyrfold.FoldingSubData(name=fold_name, sequence=seq_to_fold, windowstart=1, windowstop=windowstop, \n",
    "                           polrate=20, numberofsimulations=30)\n",
    "    submission_dict[fold_name] = temp"
   ]
  },
  {
   "cell_type": "code",
   "execution_count": 7,
   "metadata": {
    "collapsed": false
   },
   "outputs": [
    {
     "data": {
      "text/plain": [
       "{'ASBV-1': <pyrfold.foldingsub.FoldingSubData at 0x7f98a155d650>,\n",
       " 'ASBV-3': <pyrfold.foldingsub.FoldingSubData at 0x7f98a155d690>,\n",
       " 'Sman': <pyrfold.foldingsub.FoldingSubData at 0x7f98a155d710>,\n",
       " 'sTRSV-2': <pyrfold.foldingsub.FoldingSubData at 0x7f98a155d6d0>}"
      ]
     },
     "execution_count": 7,
     "metadata": {},
     "output_type": "execute_result"
    }
   ],
   "source": [
    "submission_dict"
   ]
  },
  {
   "cell_type": "markdown",
   "metadata": {},
   "source": [
    "##Step 3 write the csv to file##"
   ]
  },
  {
   "cell_type": "code",
   "execution_count": 9,
   "metadata": {
    "collapsed": false
   },
   "outputs": [],
   "source": [
    "pyrfold.pyrfile.filled_in_form(filename = 'test_submissiop', devicenametosubobj=submission_dict)"
   ]
  },
  {
   "cell_type": "markdown",
   "metadata": {},
   "source": [
    "Now that this is build we can move everything else into the file structure manually. \n",
    "\n",
    "After this we can move this to hyak and then start processing the data. **NOTE** one must use the submission_directory.py script since there is an additional directory level. "
   ]
  },
  {
   "cell_type": "code",
   "execution_count": 3,
   "metadata": {
    "collapsed": false
   },
   "outputs": [],
   "source": [
    "import pyrfold"
   ]
  },
  {
   "cell_type": "code",
   "execution_count": 4,
   "metadata": {
    "collapsed": true
   },
   "outputs": [],
   "source": [
    "pyrfold.FoldingSubData?"
   ]
  },
  {
   "cell_type": "code",
   "execution_count": 8,
   "metadata": {
    "collapsed": true
   },
   "outputs": [],
   "source": [
    "pyrfold.pyrfile.filled_in_form?"
   ]
  },
  {
   "cell_type": "code",
   "execution_count": null,
   "metadata": {
    "collapsed": true
   },
   "outputs": [],
   "source": []
  }
 ],
 "metadata": {
  "kernelspec": {
   "display_name": "Python 2",
   "language": "python",
   "name": "python2"
  },
  "language_info": {
   "codemirror_mode": {
    "name": "ipython",
    "version": 2
   },
   "file_extension": ".py",
   "mimetype": "text/x-python",
   "name": "python",
   "nbconvert_exporter": "python",
   "pygments_lexer": "ipython2",
   "version": "2.7.6"
  }
 },
 "nbformat": 4,
 "nbformat_minor": 0
}
